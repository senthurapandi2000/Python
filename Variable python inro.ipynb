{
 "cells": [
  {
   "cell_type": "code",
   "execution_count": 1,
   "id": "38ef32a3",
   "metadata": {},
   "outputs": [
    {
     "name": "stdout",
     "output_type": "stream",
     "text": [
      "hello world\n"
     ]
    }
   ],
   "source": [
    "print('hello world')"
   ]
  },
  {
   "cell_type": "code",
   "execution_count": 3,
   "id": "6d784b4f",
   "metadata": {},
   "outputs": [
    {
     "name": "stdout",
     "output_type": "stream",
     "text": [
      "10\n",
      "<class 'int'>\n"
     ]
    }
   ],
   "source": [
    "#variable creation\n",
    "pandi = 10\n",
    "print(pandi)\n",
    "print(type(pandi))"
   ]
  },
  {
   "cell_type": "code",
   "execution_count": 14,
   "id": "65848fc1",
   "metadata": {},
   "outputs": [
    {
     "name": "stdout",
     "output_type": "stream",
     "text": [
      "<class 'int'>\n",
      "<class 'str'>\n",
      "<class 'float'>\n",
      "<class 'bool'>\n",
      "<class 'complex'>\n",
      "<class 'list'>\n"
     ]
    }
   ],
   "source": [
    "#variable type\n",
    "a = 10\n",
    "b = 'pandi'\n",
    "c = 10.5\n",
    "g = True\n",
    "f = 5+4j #here 5 is a real number and 5j is imaginary.here j is used as notation for complex numbers\n",
    "list1 = [1,1.5,True,5+10j,'pandi']\n",
    "print(type(a))\n",
    "print(type(b))\n",
    "print(type(c))\n",
    "print(type(g))\n",
    "print(type(f))\n",
    "print(type(list1))"
   ]
  },
  {
   "cell_type": "code",
   "execution_count": 7,
   "id": "e8fb87d8",
   "metadata": {},
   "outputs": [
    {
     "name": "stdout",
     "output_type": "stream",
     "text": [
      "<class 'bool'>\n"
     ]
    }
   ],
   "source": [
    "d = True\n",
    "print(type(d))"
   ]
  },
  {
   "cell_type": "code",
   "execution_count": 8,
   "id": "64b25d1d",
   "metadata": {},
   "outputs": [
    {
     "data": {
      "text/plain": [
       "1"
      ]
     },
     "execution_count": 8,
     "metadata": {},
     "output_type": "execute_result"
    }
   ],
   "source": [
    "#internally true is considered as 1 an false as 0\n",
    "True-False"
   ]
  },
  {
   "cell_type": "code",
   "execution_count": 9,
   "id": "e04a46b3",
   "metadata": {},
   "outputs": [
    {
     "data": {
      "text/plain": [
       "0"
      ]
     },
     "execution_count": 9,
     "metadata": {},
     "output_type": "execute_result"
    }
   ],
   "source": [
    "True*False"
   ]
  },
  {
   "cell_type": "code",
   "execution_count": 10,
   "id": "439c2798",
   "metadata": {},
   "outputs": [
    {
     "ename": "ZeroDivisionError",
     "evalue": "division by zero",
     "output_type": "error",
     "traceback": [
      "\u001b[1;31m---------------------------------------------------------------------------\u001b[0m",
      "\u001b[1;31mZeroDivisionError\u001b[0m                         Traceback (most recent call last)",
      "\u001b[1;32m<ipython-input-10-f64d1295bbce>\u001b[0m in \u001b[0;36m<module>\u001b[1;34m\u001b[0m\n\u001b[1;32m----> 1\u001b[1;33m \u001b[1;32mTrue\u001b[0m\u001b[1;33m/\u001b[0m\u001b[1;32mFalse\u001b[0m\u001b[1;33m\u001b[0m\u001b[1;33m\u001b[0m\u001b[0m\n\u001b[0m",
      "\u001b[1;31mZeroDivisionError\u001b[0m: division by zero"
     ]
    }
   ],
   "source": [
    "True/False"
   ]
  },
  {
   "cell_type": "code",
   "execution_count": 12,
   "id": "f6fac23a",
   "metadata": {},
   "outputs": [
    {
     "name": "stdout",
     "output_type": "stream",
     "text": [
      "(20+10j)\n"
     ]
    }
   ],
   "source": [
    "f = 10+5j\n",
    "print(f+f)"
   ]
  },
  {
   "cell_type": "code",
   "execution_count": 13,
   "id": "e48c4eb4",
   "metadata": {},
   "outputs": [
    {
     "name": "stdout",
     "output_type": "stream",
     "text": [
      "10.0 5.0\n"
     ]
    }
   ],
   "source": [
    "#extracting reak and imaginary part\n",
    "print(f.real,f.imag)"
   ]
  },
  {
   "cell_type": "code",
   "execution_count": null,
   "id": "b5adadad",
   "metadata": {},
   "outputs": [],
   "source": []
  }
 ],
 "metadata": {
  "kernelspec": {
   "display_name": "Python 3",
   "language": "python",
   "name": "python3"
  },
  "language_info": {
   "codemirror_mode": {
    "name": "ipython",
    "version": 3
   },
   "file_extension": ".py",
   "mimetype": "text/x-python",
   "name": "python",
   "nbconvert_exporter": "python",
   "pygments_lexer": "ipython3",
   "version": "3.8.8"
  }
 },
 "nbformat": 4,
 "nbformat_minor": 5
}
