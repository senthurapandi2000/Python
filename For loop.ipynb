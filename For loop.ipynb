{
 "cells": [
  {
   "cell_type": "markdown",
   "id": "6c5cec74",
   "metadata": {},
   "source": [
    "# For loop"
   ]
  },
  {
   "cell_type": "code",
   "execution_count": 1,
   "id": "0bd5ac01",
   "metadata": {},
   "outputs": [],
   "source": [
    "l = [1,2,3,4,5]"
   ]
  },
  {
   "cell_type": "code",
   "execution_count": 2,
   "id": "5c896876",
   "metadata": {},
   "outputs": [
    {
     "name": "stdout",
     "output_type": "stream",
     "text": [
      "1\n",
      "2\n",
      "3\n",
      "4\n",
      "5\n"
     ]
    }
   ],
   "source": [
    "for i in l:\n",
    "    print(i)"
   ]
  },
  {
   "cell_type": "code",
   "execution_count": 3,
   "id": "f02e1ffc",
   "metadata": {},
   "outputs": [
    {
     "name": "stdout",
     "output_type": "stream",
     "text": [
      "15\n"
     ]
    }
   ],
   "source": [
    "l = [1,2,3,4,5]\n",
    "mylist = 0\n",
    "for i in l:\n",
    "    mylist+=i\n",
    "print(mylist)"
   ]
  },
  {
   "cell_type": "code",
   "execution_count": 4,
   "id": "b289f558",
   "metadata": {},
   "outputs": [
    {
     "name": "stdout",
     "output_type": "stream",
     "text": [
      "2\n",
      "3\n",
      "4\n",
      "5\n",
      "pandi1\n",
      "231.25\n"
     ]
    }
   ],
   "source": [
    "l = [1,2,3,4,'pandi',230.25]\n",
    "for i in l:\n",
    "    if type(i)== int or type(i)==float:\n",
    "        print(i+1)\n",
    "    elif type(i)==str:\n",
    "        print(i+str(1))"
   ]
  },
  {
   "cell_type": "code",
   "execution_count": 5,
   "id": "7ebc2162",
   "metadata": {},
   "outputs": [
    {
     "name": "stdout",
     "output_type": "stream",
     "text": [
      "[1, 2, 3, 4]\n"
     ]
    }
   ],
   "source": [
    "l = [1,2,3,4,'pandi',230.25]\n",
    "m = []\n",
    "for i in l:\n",
    "    if type(i)==int:\n",
    "        m.append(i)\n",
    "print(m)"
   ]
  },
  {
   "cell_type": "code",
   "execution_count": 6,
   "id": "8a895aae",
   "metadata": {},
   "outputs": [
    {
     "name": "stdout",
     "output_type": "stream",
     "text": [
      "1\n",
      "2\n",
      "3\n",
      "4\n",
      "pandi\n",
      "monesg\n",
      "45.25\n"
     ]
    }
   ],
   "source": [
    "d = [1,2,3,4,'pandi','monesg',45.25]\n",
    "for i in d:\n",
    "    print(i)"
   ]
  },
  {
   "cell_type": "code",
   "execution_count": 7,
   "id": "45c217ec",
   "metadata": {},
   "outputs": [],
   "source": [
    "for i in d:\n",
    "    pass"
   ]
  },
  {
   "cell_type": "code",
   "execution_count": 8,
   "id": "34312110",
   "metadata": {},
   "outputs": [
    {
     "name": "stdout",
     "output_type": "stream",
     "text": [
      "s\n",
      "e\n",
      "n\n",
      "t\n",
      "h\n",
      "u\n",
      "r\n",
      "a\n",
      "p\n",
      "a\n",
      "n\n",
      "d\n",
      "i\n"
     ]
    }
   ],
   "source": [
    "s = 'senthurapandi'\n",
    "for i in s:\n",
    "    print(i)"
   ]
  },
  {
   "cell_type": "code",
   "execution_count": 9,
   "id": "4602c5f3",
   "metadata": {},
   "outputs": [
    {
     "name": "stdout",
     "output_type": "stream",
     "text": [
      "1\n",
      "23\n",
      "46\n",
      "pandi\n"
     ]
    }
   ],
   "source": [
    "t = (1,23,46,'pandi')\n",
    "for i in t:\n",
    "    print(i)"
   ]
  },
  {
   "cell_type": "code",
   "execution_count": 10,
   "id": "aed772a3",
   "metadata": {},
   "outputs": [
    {
     "name": "stdout",
     "output_type": "stream",
     "text": [
      "1\n",
      "2\n",
      "3\n",
      "4\n",
      "pandi\n",
      "5454.6\n",
      "it will work only for loop is exhausted\n"
     ]
    }
   ],
   "source": [
    "#else will work when for loop is exhausted\n",
    "l = [1,2,3,4,'pandi',5454.6]\n",
    "for i in l:\n",
    "    print(i)\n",
    "else:\n",
    "    print(\"it will work only for loop is exhausted\")"
   ]
  },
  {
   "cell_type": "code",
   "execution_count": 11,
   "id": "c4693d5a",
   "metadata": {},
   "outputs": [
    {
     "name": "stdout",
     "output_type": "stream",
     "text": [
      "1\n",
      "2\n"
     ]
    }
   ],
   "source": [
    "for i in l:\n",
    "    if i == 3:\n",
    "        break\n",
    "    print(i)\n",
    "else:\n",
    "    print(\"it will work only for loop is exhausted\")"
   ]
  },
  {
   "cell_type": "code",
   "execution_count": 12,
   "id": "561bf49c",
   "metadata": {},
   "outputs": [
    {
     "name": "stdout",
     "output_type": "stream",
     "text": [
      "s\n",
      "e\n",
      "n\n",
      "t\n",
      "h\n",
      "u\n",
      "r\n"
     ]
    }
   ],
   "source": [
    "s = 'senthurapandi'\n",
    "for i in s:\n",
    "    if i =='a':\n",
    "        break\n",
    "    print(i)\n",
    "else:\n",
    "    print('print the string',s)"
   ]
  },
  {
   "cell_type": "code",
   "execution_count": 13,
   "id": "16569fb3",
   "metadata": {},
   "outputs": [
    {
     "name": "stdout",
     "output_type": "stream",
     "text": [
      "m\n",
      "o\n",
      "n\n",
      "e\n",
      "s\n",
      "h\n",
      "monesh\n"
     ]
    }
   ],
   "source": [
    "d = 'monesh'\n",
    "for i in d:\n",
    "    if type(d)=='z':\n",
    "        break\n",
    "    print(i)\n",
    "else:\n",
    "    print(d)"
   ]
  },
  {
   "cell_type": "code",
   "execution_count": 14,
   "id": "7c280255",
   "metadata": {},
   "outputs": [],
   "source": [
    "s = {1,23,4,6,45,6,4,87,'pandi',60.24}"
   ]
  },
  {
   "cell_type": "code",
   "execution_count": 15,
   "id": "7d5f4bdf",
   "metadata": {},
   "outputs": [
    {
     "name": "stdout",
     "output_type": "stream",
     "text": [
      "1\n",
      "4\n",
      "6\n",
      "pandi\n",
      "45\n",
      "87\n",
      "23\n",
      "60.24\n"
     ]
    }
   ],
   "source": [
    "for i in s:\n",
    "    print(i)"
   ]
  },
  {
   "cell_type": "code",
   "execution_count": 16,
   "id": "51d78ed7",
   "metadata": {},
   "outputs": [],
   "source": [
    "d = {'k1':'pandi','k2' : 1234,('pandi',1,2,4):[1,23,4,5,'monesh']}"
   ]
  },
  {
   "cell_type": "code",
   "execution_count": 17,
   "id": "9fd5db96",
   "metadata": {},
   "outputs": [
    {
     "name": "stdout",
     "output_type": "stream",
     "text": [
      "k1 : pandi\n",
      "k2 : 1234\n",
      "('pandi', 1, 2, 4) : [1, 23, 4, 5, 'monesh']\n"
     ]
    }
   ],
   "source": [
    "for i in d:\n",
    "    print(i,':',d[i])"
   ]
  },
  {
   "cell_type": "code",
   "execution_count": 18,
   "id": "06fc9018",
   "metadata": {},
   "outputs": [
    {
     "name": "stdout",
     "output_type": "stream",
     "text": [
      "pandi\n",
      "1234\n",
      "[1, 23, 4, 5, 'monesh']\n"
     ]
    }
   ],
   "source": [
    "for i in d:\n",
    "    print(d[i])"
   ]
  },
  {
   "cell_type": "code",
   "execution_count": 19,
   "id": "df21e6f1",
   "metadata": {},
   "outputs": [
    {
     "data": {
      "text/plain": [
       "range(0, 9)"
      ]
     },
     "execution_count": 19,
     "metadata": {},
     "output_type": "execute_result"
    }
   ],
   "source": [
    "range(9)"
   ]
  },
  {
   "cell_type": "code",
   "execution_count": 20,
   "id": "42c551ea",
   "metadata": {},
   "outputs": [
    {
     "name": "stdout",
     "output_type": "stream",
     "text": [
      "0\n",
      "1\n",
      "2\n",
      "3\n",
      "4\n",
      "5\n",
      "6\n",
      "7\n",
      "8\n"
     ]
    }
   ],
   "source": [
    "for i in range(9):\n",
    "    print(i)"
   ]
  },
  {
   "cell_type": "code",
   "execution_count": 21,
   "id": "ec3880f3",
   "metadata": {},
   "outputs": [
    {
     "data": {
      "text/plain": [
       "[0, 1, 2, 3, 4, 5, 6, 7, 8]"
      ]
     },
     "execution_count": 21,
     "metadata": {},
     "output_type": "execute_result"
    }
   ],
   "source": [
    "list(range(9))"
   ]
  },
  {
   "cell_type": "code",
   "execution_count": 22,
   "id": "c3e64f6b",
   "metadata": {},
   "outputs": [
    {
     "data": {
      "text/plain": [
       "[]"
      ]
     },
     "execution_count": 22,
     "metadata": {},
     "output_type": "execute_result"
    }
   ],
   "source": [
    "list(range(0,9,-1))"
   ]
  },
  {
   "cell_type": "code",
   "execution_count": 47,
   "id": "9cf32b84",
   "metadata": {},
   "outputs": [
    {
     "name": "stdout",
     "output_type": "stream",
     "text": [
      "pandi \n",
      "\n",
      "pandi pandi \n",
      "\n",
      "pandi pandi pandi \n",
      "\n",
      "pandi pandi pandi pandi \n",
      "\n"
     ]
    }
   ],
   "source": [
    "for i in range(4):\n",
    "    for j in range(0,i+1):\n",
    "        print('pandi',end = ' ')\n",
    "    print('\\n')"
   ]
  },
  {
   "cell_type": "code",
   "execution_count": 48,
   "id": "b4e52c7f",
   "metadata": {},
   "outputs": [
    {
     "name": "stdout",
     "output_type": "stream",
     "text": [
      "enter the no.of.rows : 3\n",
      "    pandi \n",
      "\n",
      "  pandi pandi \n",
      "\n",
      "pandi pandi pandi \n",
      "\n"
     ]
    }
   ],
   "source": [
    "n = int(input('enter the no.of.rows : '))\n",
    "for i in range(n):\n",
    "    for j in range(n-i-1):\n",
    "        print(\" \",end = ' ')\n",
    "    for k in range(i+1):\n",
    "        print('pandi',end=' ')\n",
    "    print('\\n')"
   ]
  },
  {
   "cell_type": "code",
   "execution_count": 60,
   "id": "b788ad05",
   "metadata": {},
   "outputs": [
    {
     "name": "stdout",
     "output_type": "stream",
     "text": [
      "0 : 1\n",
      "1 : 23\n",
      "2 : 4\n",
      "3 : 5\n",
      "4 : 6\n"
     ]
    }
   ],
   "source": [
    "t = (1,23,4,5,6)\n",
    "for i in range(len(t)):\n",
    "    print(i,':',t[i])"
   ]
  },
  {
   "cell_type": "code",
   "execution_count": 58,
   "id": "1c3705d6",
   "metadata": {},
   "outputs": [
    {
     "data": {
      "text/plain": [
       "range(0, 5)"
      ]
     },
     "execution_count": 58,
     "metadata": {},
     "output_type": "execute_result"
    }
   ],
   "source": [
    "range(len(t))"
   ]
  },
  {
   "cell_type": "code",
   "execution_count": 61,
   "id": "359be1d4",
   "metadata": {},
   "outputs": [
    {
     "name": "stdout",
     "output_type": "stream",
     "text": [
      "0 : i\n",
      "1 : n\n",
      "2 : e\n",
      "3 : u\n",
      "4 : o\n",
      "5 : r\n",
      "6 : n\n"
     ]
    }
   ],
   "source": [
    "s = \"ineuorn\"\n",
    "for i in range(len(s)):\n",
    "    print(i,\":\",s[i])"
   ]
  },
  {
   "cell_type": "code",
   "execution_count": 79,
   "id": "b139e7dd",
   "metadata": {},
   "outputs": [
    {
     "name": "stdout",
     "output_type": "stream",
     "text": [
      "6 : n\n",
      "5 : r\n",
      "4 : o\n",
      "3 : u\n",
      "2 : e\n",
      "1 : n\n",
      "0 : i\n"
     ]
    }
   ],
   "source": [
    "for i in range(len(s))[::-1]:\n",
    "    print(i,':',s[i])"
   ]
  },
  {
   "cell_type": "code",
   "execution_count": 80,
   "id": "cc8dcef9",
   "metadata": {},
   "outputs": [
    {
     "name": "stdout",
     "output_type": "stream",
     "text": [
      "6 : n\n",
      "5 : r\n",
      "4 : o\n",
      "3 : u\n",
      "2 : e\n",
      "1 : n\n",
      "0 : i\n"
     ]
    }
   ],
   "source": [
    "for i in range(len(s)-1,-1,-1):\n",
    "    print(i,\":\",s[i])"
   ]
  },
  {
   "cell_type": "code",
   "execution_count": 81,
   "id": "289e1ca0",
   "metadata": {},
   "outputs": [
    {
     "data": {
      "text/plain": [
       "{'k1': 'pandi', 'k2': 1234, ('pandi', 1, 2, 4): [1, 23, 4, 5, 'monesh']}"
      ]
     },
     "execution_count": 81,
     "metadata": {},
     "output_type": "execute_result"
    }
   ],
   "source": [
    "d"
   ]
  },
  {
   "cell_type": "code",
   "execution_count": 90,
   "id": "ec19ef2f",
   "metadata": {},
   "outputs": [
    {
     "name": "stdout",
     "output_type": "stream",
     "text": [
      "k1 : pandi type of key  :  <class 'str'> type of value :  <class 'str'>\n",
      "k2 : 1234 type of key  :  <class 'str'> type of value :  <class 'int'>\n",
      "('pandi', 1, 2, 4) : [1, 23, 4, 5, 'monesh'] type of key  :  <class 'tuple'> type of value :  <class 'list'>\n"
     ]
    }
   ],
   "source": [
    "for i in d:\n",
    "    print(i,':',d[i],'type of key  : ',type(i),\"type of value : \",type(d[i]))"
   ]
  },
  {
   "cell_type": "code",
   "execution_count": 87,
   "id": "b6c239e2",
   "metadata": {},
   "outputs": [
    {
     "name": "stdout",
     "output_type": "stream",
     "text": [
      "('k1', 'pandi')\n",
      "('k2', 1234)\n",
      "(('pandi', 1, 2, 4), [1, 23, 4, 5, 'monesh'])\n"
     ]
    }
   ],
   "source": [
    "for i in d.items():\n",
    "    print(i)"
   ]
  },
  {
   "cell_type": "code",
   "execution_count": 93,
   "id": "b110927c",
   "metadata": {},
   "outputs": [],
   "source": [
    "l = ['sudh','kumar',4656565,\"rvani1262@\",76545,64654654]"
   ]
  },
  {
   "cell_type": "code",
   "execution_count": 94,
   "id": "48e71453",
   "metadata": {},
   "outputs": [
    {
     "name": "stdout",
     "output_type": "stream",
     "text": [
      "[4656565, 76545, 64654654]\n"
     ]
    }
   ],
   "source": [
    "m = []\n",
    "for i in l:\n",
    "    if type(i)==int:\n",
    "        m.append(i)\n",
    "print(m)"
   ]
  },
  {
   "cell_type": "code",
   "execution_count": 99,
   "id": "3da4f343",
   "metadata": {},
   "outputs": [],
   "source": [
    "d = {1:54546,'name':'senthura','email_id' : 'rvani1262',123:'sdfbndfj',\"43\":'jkaf',234:'monesh'}"
   ]
  },
  {
   "cell_type": "code",
   "execution_count": 106,
   "id": "837fb004",
   "metadata": {},
   "outputs": [
    {
     "name": "stdout",
     "output_type": "stream",
     "text": [
      "1 : 54546\n",
      "123 : sdfbndfj\n",
      "234 : monesh\n"
     ]
    }
   ],
   "source": [
    "for i in d:\n",
    "    if type(i)==int:\n",
    "        print(i,\":\",d[i])"
   ]
  },
  {
   "cell_type": "code",
   "execution_count": 113,
   "id": "7daad910",
   "metadata": {},
   "outputs": [],
   "source": [
    "s = 'aaaabbccdd'"
   ]
  },
  {
   "cell_type": "code",
   "execution_count": 114,
   "id": "52d183dc",
   "metadata": {},
   "outputs": [
    {
     "name": "stdout",
     "output_type": "stream",
     "text": [
      "d : 2\n",
      "b : 2\n",
      "c : 2\n",
      "a : 4\n"
     ]
    }
   ],
   "source": [
    "for i in set(s):\n",
    "    print(i,':',s.count(i))"
   ]
  },
  {
   "cell_type": "code",
   "execution_count": 3,
   "id": "b7ce4fe2",
   "metadata": {},
   "outputs": [
    {
     "ename": "TypeError",
     "evalue": "'int' object is not iterable",
     "output_type": "error",
     "traceback": [
      "\u001b[1;31m---------------------------------------------------------------------------\u001b[0m",
      "\u001b[1;31mTypeError\u001b[0m                                 Traceback (most recent call last)",
      "\u001b[1;32m<ipython-input-3-c5f1084d79c4>\u001b[0m in \u001b[0;36m<module>\u001b[1;34m\u001b[0m\n\u001b[0;32m      1\u001b[0m \u001b[0mi\u001b[0m \u001b[1;33m=\u001b[0m \u001b[1;36m34562453\u001b[0m\u001b[1;33m\u001b[0m\u001b[1;33m\u001b[0m\u001b[0m\n\u001b[1;32m----> 2\u001b[1;33m \u001b[1;32mfor\u001b[0m \u001b[0mj\u001b[0m \u001b[1;32min\u001b[0m \u001b[0mi\u001b[0m\u001b[1;33m:\u001b[0m\u001b[1;33m\u001b[0m\u001b[1;33m\u001b[0m\u001b[0m\n\u001b[0m\u001b[0;32m      3\u001b[0m     \u001b[0mprint\u001b[0m\u001b[1;33m(\u001b[0m\u001b[0mj\u001b[0m\u001b[1;33m)\u001b[0m\u001b[1;31m#int object is not iterables\u001b[0m\u001b[1;33m\u001b[0m\u001b[1;33m\u001b[0m\u001b[0m\n",
      "\u001b[1;31mTypeError\u001b[0m: 'int' object is not iterable"
     ]
    }
   ],
   "source": [
    "i = 34562453\n",
    "for j in i:\n",
    "    print(j)#int object is not iterables"
   ]
  },
  {
   "cell_type": "code",
   "execution_count": 10,
   "id": "5385cd1c",
   "metadata": {},
   "outputs": [
    {
     "name": "stdout",
     "output_type": "stream",
     "text": [
      "3 : <class 'int'>\n",
      "4 : <class 'int'>\n",
      "5 : <class 'int'>\n",
      "6 : <class 'int'>\n",
      "2 : <class 'int'>\n",
      "4 : <class 'int'>\n",
      "5 : <class 'int'>\n",
      "3 : <class 'int'>\n"
     ]
    }
   ],
   "source": [
    "i = 34562453\n",
    "for j in str(i):\n",
    "    print(int(j),\":\",type(int(j)))"
   ]
  },
  {
   "cell_type": "code",
   "execution_count": 21,
   "id": "d56859c3",
   "metadata": {},
   "outputs": [],
   "source": [
    "t = ('senthura','pandi',[5,6,4,7,3],(3,4,5,6),{3:3,'k1':'pandi',\"k2\":\"kumar\"})"
   ]
  },
  {
   "cell_type": "code",
   "execution_count": 37,
   "id": "1913018f",
   "metadata": {},
   "outputs": [
    {
     "name": "stdout",
     "output_type": "stream",
     "text": [
      "3\n",
      "3\n",
      "3\n",
      "3\n"
     ]
    }
   ],
   "source": [
    "for i in t:\n",
    "    if type(i)==list or type(i)==tuple:\n",
    "        for j in i:\n",
    "            if j==3:\n",
    "                print(j)\n",
    "    if type(i)==dict:\n",
    "        for j in i.items():\n",
    "            for k in j:\n",
    "                if k==3:\n",
    "                    print(k)\n",
    "    "
   ]
  },
  {
   "cell_type": "code",
   "execution_count": 38,
   "id": "8915480b",
   "metadata": {},
   "outputs": [],
   "source": [
    "d = {4:5,'K1':'pandi','k2':'senthura'}"
   ]
  },
  {
   "cell_type": "code",
   "execution_count": 40,
   "id": "f10a175d",
   "metadata": {},
   "outputs": [
    {
     "name": "stdout",
     "output_type": "stream",
     "text": [
      "4\n",
      "5\n",
      "K1\n",
      "pandi\n",
      "k2\n",
      "senthura\n"
     ]
    }
   ],
   "source": [
    "for k ,v in d.items():\n",
    "    print(k)\n",
    "    print(v)"
   ]
  },
  {
   "cell_type": "code",
   "execution_count": null,
   "id": "3d64f2b8",
   "metadata": {},
   "outputs": [],
   "source": []
  }
 ],
 "metadata": {
  "kernelspec": {
   "display_name": "Python 3",
   "language": "python",
   "name": "python3"
  },
  "language_info": {
   "codemirror_mode": {
    "name": "ipython",
    "version": 3
   },
   "file_extension": ".py",
   "mimetype": "text/x-python",
   "name": "python",
   "nbconvert_exporter": "python",
   "pygments_lexer": "ipython3",
   "version": "3.8.8"
  }
 },
 "nbformat": 4,
 "nbformat_minor": 5
}
