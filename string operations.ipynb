{
 "cells": [
  {
   "cell_type": "code",
   "execution_count": 1,
   "id": "768d5fc7",
   "metadata": {},
   "outputs": [],
   "source": [
    "s = 'senthurapandi'"
   ]
  },
  {
   "cell_type": "code",
   "execution_count": 2,
   "id": "4aa69a37",
   "metadata": {},
   "outputs": [
    {
     "data": {
      "text/plain": [
       "str"
      ]
     },
     "execution_count": 2,
     "metadata": {},
     "output_type": "execute_result"
    }
   ],
   "source": [
    "type(s)"
   ]
  },
  {
   "cell_type": "code",
   "execution_count": 3,
   "id": "440fd9ca",
   "metadata": {},
   "outputs": [
    {
     "data": {
      "text/plain": [
       "'s'"
      ]
     },
     "execution_count": 3,
     "metadata": {},
     "output_type": "execute_result"
    }
   ],
   "source": [
    "s[0]"
   ]
  },
  {
   "cell_type": "code",
   "execution_count": 4,
   "id": "915abce8",
   "metadata": {},
   "outputs": [
    {
     "data": {
      "text/plain": [
       "'u'"
      ]
     },
     "execution_count": 4,
     "metadata": {},
     "output_type": "execute_result"
    }
   ],
   "source": [
    "s[5]"
   ]
  },
  {
   "cell_type": "code",
   "execution_count": 5,
   "id": "aa1c1dad",
   "metadata": {},
   "outputs": [
    {
     "data": {
      "text/plain": [
       "'i'"
      ]
     },
     "execution_count": 5,
     "metadata": {},
     "output_type": "execute_result"
    }
   ],
   "source": [
    "s[-1]"
   ]
  },
  {
   "cell_type": "code",
   "execution_count": 6,
   "id": "3f6bd718",
   "metadata": {},
   "outputs": [],
   "source": [
    "s1 = 'pandi'"
   ]
  },
  {
   "cell_type": "code",
   "execution_count": 7,
   "id": "62a03c82",
   "metadata": {},
   "outputs": [
    {
     "data": {
      "text/plain": [
       "'idnap'"
      ]
     },
     "execution_count": 7,
     "metadata": {},
     "output_type": "execute_result"
    }
   ],
   "source": [
    "s1[::-1]"
   ]
  },
  {
   "cell_type": "code",
   "execution_count": 8,
   "id": "03983705",
   "metadata": {},
   "outputs": [
    {
     "data": {
      "text/plain": [
       "'pni'"
      ]
     },
     "execution_count": 8,
     "metadata": {},
     "output_type": "execute_result"
    }
   ],
   "source": [
    "s1[0:100:2]"
   ]
  },
  {
   "cell_type": "code",
   "execution_count": 9,
   "id": "37676079",
   "metadata": {},
   "outputs": [],
   "source": [
    "s = \"this is my first python programming language's\""
   ]
  },
  {
   "cell_type": "code",
   "execution_count": 10,
   "id": "99f9e89e",
   "metadata": {},
   "outputs": [
    {
     "name": "stdout",
     "output_type": "stream",
     "text": [
      "this is my first python programming language's\n"
     ]
    }
   ],
   "source": [
    "print(s)"
   ]
  },
  {
   "cell_type": "code",
   "execution_count": 11,
   "id": "060fd86b",
   "metadata": {},
   "outputs": [
    {
     "data": {
      "text/plain": [
       "'s'"
      ]
     },
     "execution_count": 11,
     "metadata": {},
     "output_type": "execute_result"
    }
   ],
   "source": [
    "s[-1]"
   ]
  },
  {
   "cell_type": "code",
   "execution_count": 12,
   "id": "8e524ec5",
   "metadata": {},
   "outputs": [
    {
     "data": {
      "text/plain": [
       "'his '"
      ]
     },
     "execution_count": 12,
     "metadata": {},
     "output_type": "execute_result"
    }
   ],
   "source": [
    "s[1:5]"
   ]
  },
  {
   "cell_type": "code",
   "execution_count": 13,
   "id": "38b5589e",
   "metadata": {},
   "outputs": [],
   "source": [
    "s3 = 'pandi is always mass and class'"
   ]
  },
  {
   "cell_type": "code",
   "execution_count": 14,
   "id": "6e4cc15b",
   "metadata": {},
   "outputs": [
    {
     "data": {
      "text/plain": [
       "'i lasms n ls'"
      ]
     },
     "execution_count": 14,
     "metadata": {},
     "output_type": "execute_result"
    }
   ],
   "source": [
    "s3[6:30:2]"
   ]
  },
  {
   "cell_type": "code",
   "execution_count": 15,
   "id": "6b9875e5",
   "metadata": {},
   "outputs": [
    {
     "data": {
      "text/plain": [
       "''"
      ]
     },
     "execution_count": 15,
     "metadata": {},
     "output_type": "execute_result"
    }
   ],
   "source": [
    "s3[0:30:-1] #why it is empty because we asked to move in positive direction and jump in negative direction because of it it is going to create contradiction"
   ]
  },
  {
   "cell_type": "code",
   "execution_count": 16,
   "id": "20d3ab11",
   "metadata": {},
   "outputs": [
    {
     "data": {
      "text/plain": [
       "'ssalc dna ssam syawla si idna'"
      ]
     },
     "execution_count": 16,
     "metadata": {},
     "output_type": "execute_result"
    }
   ],
   "source": [
    "s3[30:0:-1]"
   ]
  },
  {
   "cell_type": "code",
   "execution_count": 17,
   "id": "fcbae2b7",
   "metadata": {},
   "outputs": [
    {
     "data": {
      "text/plain": [
       "'pandi is always mass and cla'"
      ]
     },
     "execution_count": 17,
     "metadata": {},
     "output_type": "execute_result"
    }
   ],
   "source": [
    "s3[:-2]"
   ]
  },
  {
   "cell_type": "code",
   "execution_count": 18,
   "id": "8742303b",
   "metadata": {},
   "outputs": [
    {
     "data": {
      "text/plain": [
       "'ss'"
      ]
     },
     "execution_count": 18,
     "metadata": {},
     "output_type": "execute_result"
    }
   ],
   "source": [
    "s3[-2:]"
   ]
  },
  {
   "cell_type": "code",
   "execution_count": 19,
   "id": "1a510c1f",
   "metadata": {},
   "outputs": [
    {
     "data": {
      "text/plain": [
       "'pandi is always mass and class'"
      ]
     },
     "execution_count": 19,
     "metadata": {},
     "output_type": "execute_result"
    }
   ],
   "source": [
    "s3[::1]"
   ]
  },
  {
   "cell_type": "code",
   "execution_count": 20,
   "id": "84f1a3c8",
   "metadata": {},
   "outputs": [
    {
     "data": {
      "text/plain": [
       "'ssalc dna ssam syawla si idnap'"
      ]
     },
     "execution_count": 20,
     "metadata": {},
     "output_type": "execute_result"
    }
   ],
   "source": [
    "s3[::-1]"
   ]
  },
  {
   "cell_type": "code",
   "execution_count": 21,
   "id": "c438e530",
   "metadata": {},
   "outputs": [
    {
     "data": {
      "text/plain": [
       "''"
      ]
     },
     "execution_count": 21,
     "metadata": {},
     "output_type": "execute_result"
    }
   ],
   "source": [
    "s = 'senthurapandi'\n",
    "s[-2:-5:1]# because there is a contradiction in it"
   ]
  },
  {
   "cell_type": "code",
   "execution_count": 22,
   "id": "80353b10",
   "metadata": {},
   "outputs": [
    {
     "data": {
      "text/plain": [
       "'rapan'"
      ]
     },
     "execution_count": 22,
     "metadata": {},
     "output_type": "execute_result"
    }
   ],
   "source": [
    "s[-7:-2:1]"
   ]
  },
  {
   "cell_type": "code",
   "execution_count": 23,
   "id": "7abe57b2",
   "metadata": {},
   "outputs": [
    {
     "data": {
      "text/plain": [
       "''"
      ]
     },
     "execution_count": 23,
     "metadata": {},
     "output_type": "execute_result"
    }
   ],
   "source": [
    "s1 = 'pandi'\n",
    "s1[-5:0:1]"
   ]
  },
  {
   "cell_type": "code",
   "execution_count": 24,
   "id": "a00c259a",
   "metadata": {},
   "outputs": [
    {
     "data": {
      "text/plain": [
       "''"
      ]
     },
     "execution_count": 24,
     "metadata": {},
     "output_type": "execute_result"
    }
   ],
   "source": [
    "s1[:-1:-1]"
   ]
  },
  {
   "cell_type": "code",
   "execution_count": 25,
   "id": "cdedf690",
   "metadata": {},
   "outputs": [
    {
     "data": {
      "text/plain": [
       "'pandisenthura'"
      ]
     },
     "execution_count": 25,
     "metadata": {},
     "output_type": "execute_result"
    }
   ],
   "source": [
    "s1+'senthura'"
   ]
  },
  {
   "cell_type": "code",
   "execution_count": 26,
   "id": "f9e8ebbe",
   "metadata": {},
   "outputs": [
    {
     "ename": "TypeError",
     "evalue": "can only concatenate str (not \"int\") to str",
     "output_type": "error",
     "traceback": [
      "\u001b[1;31m---------------------------------------------------------------------------\u001b[0m",
      "\u001b[1;31mTypeError\u001b[0m                                 Traceback (most recent call last)",
      "\u001b[1;32m<ipython-input-26-b4ccbdcd91b0>\u001b[0m in \u001b[0;36m<module>\u001b[1;34m\u001b[0m\n\u001b[1;32m----> 1\u001b[1;33m \u001b[0ms1\u001b[0m\u001b[1;33m+\u001b[0m\u001b[1;36m1\u001b[0m\u001b[1;33m\u001b[0m\u001b[1;33m\u001b[0m\u001b[0m\n\u001b[0m",
      "\u001b[1;31mTypeError\u001b[0m: can only concatenate str (not \"int\") to str"
     ]
    }
   ],
   "source": [
    "s1+1"
   ]
  },
  {
   "cell_type": "code",
   "execution_count": 27,
   "id": "6c9365df",
   "metadata": {},
   "outputs": [
    {
     "data": {
      "text/plain": [
       "'pandi1'"
      ]
     },
     "execution_count": 27,
     "metadata": {},
     "output_type": "execute_result"
    }
   ],
   "source": [
    "s1+str(1)"
   ]
  },
  {
   "cell_type": "code",
   "execution_count": 28,
   "id": "a6f7c9f4",
   "metadata": {},
   "outputs": [
    {
     "name": "stdout",
     "output_type": "stream",
     "text": [
      "13\n"
     ]
    }
   ],
   "source": [
    "s\n",
    "print(len(s))"
   ]
  },
  {
   "cell_type": "code",
   "execution_count": 29,
   "id": "74dfd941",
   "metadata": {},
   "outputs": [
    {
     "data": {
      "text/plain": [
       "'senthurapandisenthurapandi'"
      ]
     },
     "execution_count": 29,
     "metadata": {},
     "output_type": "execute_result"
    }
   ],
   "source": [
    "s*2"
   ]
  },
  {
   "cell_type": "code",
   "execution_count": 30,
   "id": "808b09e8",
   "metadata": {},
   "outputs": [],
   "source": [
    "d = 'senthurapandi is a good boy'"
   ]
  },
  {
   "cell_type": "code",
   "execution_count": 31,
   "id": "c0563a19",
   "metadata": {},
   "outputs": [
    {
     "data": {
      "text/plain": [
       "1"
      ]
     },
     "execution_count": 31,
     "metadata": {},
     "output_type": "execute_result"
    }
   ],
   "source": [
    "d.count(s)"
   ]
  },
  {
   "cell_type": "code",
   "execution_count": 32,
   "id": "19722740",
   "metadata": {},
   "outputs": [
    {
     "data": {
      "text/plain": [
       "1"
      ]
     },
     "execution_count": 32,
     "metadata": {},
     "output_type": "execute_result"
    }
   ],
   "source": [
    "d.count('se')"
   ]
  },
  {
   "cell_type": "code",
   "execution_count": 33,
   "id": "d9cc86e3",
   "metadata": {},
   "outputs": [
    {
     "data": {
      "text/plain": [
       "0"
      ]
     },
     "execution_count": 33,
     "metadata": {},
     "output_type": "execute_result"
    }
   ],
   "source": [
    "d.count('sum')"
   ]
  },
  {
   "cell_type": "code",
   "execution_count": 34,
   "id": "88377e8d",
   "metadata": {},
   "outputs": [
    {
     "data": {
      "text/plain": [
       "['s', 'nthurapandi']"
      ]
     },
     "execution_count": 34,
     "metadata": {},
     "output_type": "execute_result"
    }
   ],
   "source": [
    "n = 'senthurapandi'\n",
    "n.split('e')"
   ]
  },
  {
   "cell_type": "code",
   "execution_count": 35,
   "id": "d16ab7d7",
   "metadata": {},
   "outputs": [],
   "source": [
    "para = \"\"\"The United States of America (U.S.A. or USA), commonly known as the United States (U.S. or US) or America, is a country primarily located in North America. It consists of 50 states, a federal district, five major unincorporated territories, nine Minor Outlying Islands,[g] and 326 Indian reservations. The United States is also in free association with three Pacific Island sovereign states: the Federated States of Micronesia, the Marshall Islands, and the Republic of Palau. It is the world's third-largest country by both land and total area.[b] It shares land borders with Canada to its north and with Mexico to its south and has maritime borders with the Bahamas, Cuba, Russia, and other nations.[h] With a population of over 333 million,[i] it is the most populous country in the Americas and the third most populous in the world. The national capital of the United States is Washington, D.C. and its most populous city and principal financial center is New York City.\"\"\""
   ]
  },
  {
   "cell_type": "code",
   "execution_count": 36,
   "id": "6d769552",
   "metadata": {},
   "outputs": [
    {
     "data": {
      "text/plain": [
       "\"The United States of America (U.S.A. or USA), commonly known as the United States (U.S. or US) or America, is a country primarily located in North America. It consists of 50 states, a federal district, five major unincorporated territories, nine Minor Outlying Islands,[g] and 326 Indian reservations. The United States is also in free association with three Pacific Island sovereign states: the Federated States of Micronesia, the Marshall Islands, and the Republic of Palau. It is the world's third-largest country by both land and total area.[b] It shares land borders with Canada to its north and with Mexico to its south and has maritime borders with the Bahamas, Cuba, Russia, and other nations.[h] With a population of over 333 million,[i] it is the most populous country in the Americas and the third most populous in the world. The national capital of the United States is Washington, D.C. and its most populous city and principal financial center is New York City.\""
      ]
     },
     "execution_count": 36,
     "metadata": {},
     "output_type": "execute_result"
    }
   ],
   "source": [
    "para"
   ]
  },
  {
   "cell_type": "code",
   "execution_count": 37,
   "id": "3d22fb88",
   "metadata": {
    "scrolled": true
   },
   "outputs": [
    {
     "data": {
      "text/plain": [
       "['The',\n",
       " 'United',\n",
       " 'States',\n",
       " 'of',\n",
       " 'America',\n",
       " '(U.S.A.',\n",
       " 'or',\n",
       " 'USA),',\n",
       " 'commonly',\n",
       " 'known',\n",
       " 'as',\n",
       " 'the',\n",
       " 'United',\n",
       " 'States',\n",
       " '(U.S.',\n",
       " 'or',\n",
       " 'US)',\n",
       " 'or',\n",
       " 'America,',\n",
       " 'is',\n",
       " 'a',\n",
       " 'country',\n",
       " 'primarily',\n",
       " 'located',\n",
       " 'in',\n",
       " 'North',\n",
       " 'America.',\n",
       " 'It',\n",
       " 'consists',\n",
       " 'of',\n",
       " '50',\n",
       " 'states,',\n",
       " 'a',\n",
       " 'federal',\n",
       " 'district,',\n",
       " 'five',\n",
       " 'major',\n",
       " 'unincorporated',\n",
       " 'territories,',\n",
       " 'nine',\n",
       " 'Minor',\n",
       " 'Outlying',\n",
       " 'Islands,[g]',\n",
       " 'and',\n",
       " '326',\n",
       " 'Indian',\n",
       " 'reservations.',\n",
       " 'The',\n",
       " 'United',\n",
       " 'States',\n",
       " 'is',\n",
       " 'also',\n",
       " 'in',\n",
       " 'free',\n",
       " 'association',\n",
       " 'with',\n",
       " 'three',\n",
       " 'Pacific',\n",
       " 'Island',\n",
       " 'sovereign',\n",
       " 'states:',\n",
       " 'the',\n",
       " 'Federated',\n",
       " 'States',\n",
       " 'of',\n",
       " 'Micronesia,',\n",
       " 'the',\n",
       " 'Marshall',\n",
       " 'Islands,',\n",
       " 'and',\n",
       " 'the',\n",
       " 'Republic',\n",
       " 'of',\n",
       " 'Palau.',\n",
       " 'It',\n",
       " 'is',\n",
       " 'the',\n",
       " \"world's\",\n",
       " 'third-largest',\n",
       " 'country',\n",
       " 'by',\n",
       " 'both',\n",
       " 'land',\n",
       " 'and',\n",
       " 'total',\n",
       " 'area.[b]',\n",
       " 'It',\n",
       " 'shares',\n",
       " 'land',\n",
       " 'borders',\n",
       " 'with',\n",
       " 'Canada',\n",
       " 'to',\n",
       " 'its',\n",
       " 'north',\n",
       " 'and',\n",
       " 'with',\n",
       " 'Mexico',\n",
       " 'to',\n",
       " 'its',\n",
       " 'south',\n",
       " 'and',\n",
       " 'has',\n",
       " 'maritime',\n",
       " 'borders',\n",
       " 'with',\n",
       " 'the',\n",
       " 'Bahamas,',\n",
       " 'Cuba,',\n",
       " 'Russia,',\n",
       " 'and',\n",
       " 'other',\n",
       " 'nations.[h]',\n",
       " 'With',\n",
       " 'a',\n",
       " 'population',\n",
       " 'of',\n",
       " 'over',\n",
       " '333',\n",
       " 'million,[i]',\n",
       " 'it',\n",
       " 'is',\n",
       " 'the',\n",
       " 'most',\n",
       " 'populous',\n",
       " 'country',\n",
       " 'in',\n",
       " 'the',\n",
       " 'Americas',\n",
       " 'and',\n",
       " 'the',\n",
       " 'third',\n",
       " 'most',\n",
       " 'populous',\n",
       " 'in',\n",
       " 'the',\n",
       " 'world.',\n",
       " 'The',\n",
       " 'national',\n",
       " 'capital',\n",
       " 'of',\n",
       " 'the',\n",
       " 'United',\n",
       " 'States',\n",
       " 'is',\n",
       " 'Washington,',\n",
       " 'D.C.',\n",
       " 'and',\n",
       " 'its',\n",
       " 'most',\n",
       " 'populous',\n",
       " 'city',\n",
       " 'and',\n",
       " 'principal',\n",
       " 'financial',\n",
       " 'center',\n",
       " 'is',\n",
       " 'New',\n",
       " 'York',\n",
       " 'City.']"
      ]
     },
     "execution_count": 37,
     "metadata": {},
     "output_type": "execute_result"
    }
   ],
   "source": [
    "para.split()#Return a list of the words in the string, using sep as the delimiter string"
   ]
  },
  {
   "cell_type": "code",
   "execution_count": 38,
   "id": "9805542e",
   "metadata": {},
   "outputs": [
    {
     "data": {
      "text/plain": [
       "4"
      ]
     },
     "execution_count": 38,
     "metadata": {},
     "output_type": "execute_result"
    }
   ],
   "source": [
    "para.count('America')"
   ]
  },
  {
   "cell_type": "code",
   "execution_count": 39,
   "id": "75226bea",
   "metadata": {},
   "outputs": [
    {
     "name": "stdout",
     "output_type": "stream",
     "text": [
      "THE UNITED STATES OF AMERICA (U.S.A. OR USA), COMMONLY KNOWN AS THE UNITED STATES (U.S. OR US) OR AMERICA, IS A COUNTRY PRIMARILY LOCATED IN NORTH AMERICA. IT CONSISTS OF 50 STATES, A FEDERAL DISTRICT, FIVE MAJOR UNINCORPORATED TERRITORIES, NINE MINOR OUTLYING ISLANDS,[G] AND 326 INDIAN RESERVATIONS. THE UNITED STATES IS ALSO IN FREE ASSOCIATION WITH THREE PACIFIC ISLAND SOVEREIGN STATES: THE FEDERATED STATES OF MICRONESIA, THE MARSHALL ISLANDS, AND THE REPUBLIC OF PALAU. IT IS THE WORLD'S THIRD-LARGEST COUNTRY BY BOTH LAND AND TOTAL AREA.[B] IT SHARES LAND BORDERS WITH CANADA TO ITS NORTH AND WITH MEXICO TO ITS SOUTH AND HAS MARITIME BORDERS WITH THE BAHAMAS, CUBA, RUSSIA, AND OTHER NATIONS.[H] WITH A POPULATION OF OVER 333 MILLION,[I] IT IS THE MOST POPULOUS COUNTRY IN THE AMERICAS AND THE THIRD MOST POPULOUS IN THE WORLD. THE NATIONAL CAPITAL OF THE UNITED STATES IS WASHINGTON, D.C. AND ITS MOST POPULOUS CITY AND PRINCIPAL FINANCIAL CENTER IS NEW YORK CITY.\n"
     ]
    }
   ],
   "source": [
    "a = para.upper()\n",
    "print(a)"
   ]
  },
  {
   "cell_type": "code",
   "execution_count": 40,
   "id": "add80d0d",
   "metadata": {},
   "outputs": [
    {
     "name": "stdout",
     "output_type": "stream",
     "text": [
      "the united states of america (u.s.a. or usa), commonly known as the united states (u.s. or us) or america, is a country primarily located in north america. it consists of 50 states, a federal district, five major unincorporated territories, nine minor outlying islands,[g] and 326 indian reservations. the united states is also in free association with three pacific island sovereign states: the federated states of micronesia, the marshall islands, and the republic of palau. it is the world's third-largest country by both land and total area.[b] it shares land borders with canada to its north and with mexico to its south and has maritime borders with the bahamas, cuba, russia, and other nations.[h] with a population of over 333 million,[i] it is the most populous country in the americas and the third most populous in the world. the national capital of the united states is washington, d.c. and its most populous city and principal financial center is new york city.\n"
     ]
    }
   ],
   "source": [
    "a = a.lower()\n",
    "print(a)"
   ]
  },
  {
   "cell_type": "code",
   "execution_count": 43,
   "id": "158b5d13",
   "metadata": {},
   "outputs": [
    {
     "data": {
      "text/plain": [
       "'Senthurapandi Is A Good Boy'"
      ]
     },
     "execution_count": 43,
     "metadata": {},
     "output_type": "execute_result"
    }
   ],
   "source": [
    "b = 'senthurapandi is a good boy'\n",
    "b.title()"
   ]
  },
  {
   "cell_type": "code",
   "execution_count": 45,
   "id": "35350822",
   "metadata": {},
   "outputs": [
    {
     "data": {
      "text/plain": [
       "'Senthura pandi is a bad boy'"
      ]
     },
     "execution_count": 45,
     "metadata": {},
     "output_type": "execute_result"
    }
   ],
   "source": [
    "n = 'senthura pandi is a bad boy'\n",
    "n.capitalize()"
   ]
  },
  {
   "cell_type": "code",
   "execution_count": 46,
   "id": "335a7d14",
   "metadata": {},
   "outputs": [
    {
     "data": {
      "text/plain": [
       "'sENTHUrA PANdI'"
      ]
     },
     "execution_count": 46,
     "metadata": {},
     "output_type": "execute_result"
    }
   ],
   "source": [
    "s = 'SenthuRa panDi'\n",
    "s.swapcase() #upper case will be converetd to lower and vice versa"
   ]
  },
  {
   "cell_type": "code",
   "execution_count": 48,
   "id": "d268cd7f",
   "metadata": {},
   "outputs": [
    {
     "data": {
      "text/plain": [
       "'iDnap aRuhtneS'"
      ]
     },
     "execution_count": 48,
     "metadata": {},
     "output_type": "execute_result"
    }
   ],
   "source": [
    "\"\".join(reversed(s))"
   ]
  },
  {
   "cell_type": "code",
   "execution_count": 49,
   "id": "082ae008",
   "metadata": {},
   "outputs": [
    {
     "data": {
      "text/plain": [
       "'iDnap aRuhtneS'"
      ]
     },
     "execution_count": 49,
     "metadata": {},
     "output_type": "execute_result"
    }
   ],
   "source": [
    "s[::-1]"
   ]
  },
  {
   "cell_type": "code",
   "execution_count": 50,
   "id": "c19c0c91",
   "metadata": {},
   "outputs": [
    {
     "data": {
      "text/plain": [
       "'senthurpandi   '"
      ]
     },
     "execution_count": 50,
     "metadata": {},
     "output_type": "execute_result"
    }
   ],
   "source": [
    "d = '  senthurpandi   '\n",
    "d.lstrip()"
   ]
  },
  {
   "cell_type": "code",
   "execution_count": 51,
   "id": "b3de7f67",
   "metadata": {},
   "outputs": [
    {
     "data": {
      "text/plain": [
       "'  senthurpandi'"
      ]
     },
     "execution_count": 51,
     "metadata": {},
     "output_type": "execute_result"
    }
   ],
   "source": [
    "d.rstrip()"
   ]
  },
  {
   "cell_type": "code",
   "execution_count": 52,
   "id": "3008c09d",
   "metadata": {},
   "outputs": [
    {
     "data": {
      "text/plain": [
       "'senthurpandi'"
      ]
     },
     "execution_count": 52,
     "metadata": {},
     "output_type": "execute_result"
    }
   ],
   "source": [
    "d.strip()"
   ]
  },
  {
   "cell_type": "code",
   "execution_count": 56,
   "id": "216d94b2",
   "metadata": {},
   "outputs": [
    {
     "data": {
      "text/plain": [
       "'peaenedeie eiese egeoeoed'"
      ]
     },
     "execution_count": 56,
     "metadata": {},
     "output_type": "execute_result"
    }
   ],
   "source": [
    "#join\n",
    "\"e\".join('pandi is good')"
   ]
  },
  {
   "cell_type": "code",
   "execution_count": 62,
   "id": "40f53eee",
   "metadata": {},
   "outputs": [
    {
     "data": {
      "text/plain": [
       "'########senthurapandi#########'"
      ]
     },
     "execution_count": 62,
     "metadata": {},
     "output_type": "execute_result"
    }
   ],
   "source": [
    "m = 'senthurapandi'\n",
    "m.center(30,'#')"
   ]
  },
  {
   "cell_type": "code",
   "execution_count": 67,
   "id": "6a8ab060",
   "metadata": {},
   "outputs": [
    {
     "data": {
      "text/plain": [
       "False"
      ]
     },
     "execution_count": 67,
     "metadata": {},
     "output_type": "execute_result"
    }
   ],
   "source": [
    "n = 'senthurapandi20'\n",
    "n.isupper()"
   ]
  },
  {
   "cell_type": "code",
   "execution_count": 68,
   "id": "33448ace",
   "metadata": {},
   "outputs": [
    {
     "data": {
      "text/plain": [
       "True"
      ]
     },
     "execution_count": 68,
     "metadata": {},
     "output_type": "execute_result"
    }
   ],
   "source": [
    "n.islower()"
   ]
  },
  {
   "cell_type": "code",
   "execution_count": 69,
   "id": "af15794f",
   "metadata": {},
   "outputs": [
    {
     "data": {
      "text/plain": [
       "False"
      ]
     },
     "execution_count": 69,
     "metadata": {},
     "output_type": "execute_result"
    }
   ],
   "source": [
    "n.isalpha()"
   ]
  },
  {
   "cell_type": "code",
   "execution_count": 70,
   "id": "386febe8",
   "metadata": {},
   "outputs": [
    {
     "data": {
      "text/plain": [
       "True"
      ]
     },
     "execution_count": 70,
     "metadata": {},
     "output_type": "execute_result"
    }
   ],
   "source": [
    "n.isalnum()"
   ]
  },
  {
   "cell_type": "code",
   "execution_count": 77,
   "id": "6436b8af",
   "metadata": {},
   "outputs": [
    {
     "data": {
      "text/plain": [
       "True"
      ]
     },
     "execution_count": 77,
     "metadata": {},
     "output_type": "execute_result"
    }
   ],
   "source": [
    "m = ' '\n",
    "m.isspace()"
   ]
  },
  {
   "cell_type": "code",
   "execution_count": 80,
   "id": "4a5c3136",
   "metadata": {},
   "outputs": [
    {
     "name": "stdout",
     "output_type": "stream",
     "text": [
      "True\n",
      "False\n"
     ]
    }
   ],
   "source": [
    "n1 = '1234'\n",
    "print(n1.isdigit())\n",
    "print(n.isdigit())"
   ]
  },
  {
   "cell_type": "code",
   "execution_count": 81,
   "id": "c76e7391",
   "metadata": {},
   "outputs": [
    {
     "data": {
      "text/plain": [
       "False"
      ]
     },
     "execution_count": 81,
     "metadata": {},
     "output_type": "execute_result"
    }
   ],
   "source": [
    "n.startswith('i')"
   ]
  },
  {
   "cell_type": "code",
   "execution_count": 82,
   "id": "85a50dbb",
   "metadata": {},
   "outputs": [
    {
     "data": {
      "text/plain": [
       "True"
      ]
     },
     "execution_count": 82,
     "metadata": {},
     "output_type": "execute_result"
    }
   ],
   "source": [
    "n.startswith('s')"
   ]
  },
  {
   "cell_type": "code",
   "execution_count": 83,
   "id": "219f6c89",
   "metadata": {},
   "outputs": [
    {
     "data": {
      "text/plain": [
       "False"
      ]
     },
     "execution_count": 83,
     "metadata": {},
     "output_type": "execute_result"
    }
   ],
   "source": [
    "n.endswith('p')"
   ]
  },
  {
   "cell_type": "code",
   "execution_count": 85,
   "id": "e10ec157",
   "metadata": {},
   "outputs": [
    {
     "data": {
      "text/plain": [
       "True"
      ]
     },
     "execution_count": 85,
     "metadata": {},
     "output_type": "execute_result"
    }
   ],
   "source": [
    "n.endswith('0')"
   ]
  },
  {
   "cell_type": "code",
   "execution_count": 99,
   "id": "098145ab",
   "metadata": {},
   "outputs": [],
   "source": [
    "n2 = '20001'"
   ]
  },
  {
   "cell_type": "code",
   "execution_count": 100,
   "id": "846e051c",
   "metadata": {},
   "outputs": [
    {
     "data": {
      "text/plain": [
       "True"
      ]
     },
     "execution_count": 100,
     "metadata": {},
     "output_type": "execute_result"
    }
   ],
   "source": [
    "n2.isdigit()"
   ]
  },
  {
   "cell_type": "code",
   "execution_count": 101,
   "id": "054584be",
   "metadata": {},
   "outputs": [
    {
     "data": {
      "text/plain": [
       "True"
      ]
     },
     "execution_count": 101,
     "metadata": {},
     "output_type": "execute_result"
    }
   ],
   "source": [
    "n2.isnumeric()"
   ]
  },
  {
   "cell_type": "code",
   "execution_count": 102,
   "id": "6ee50c20",
   "metadata": {},
   "outputs": [
    {
     "data": {
      "text/plain": [
       "'senthurapandi   is      a       good    boy'"
      ]
     },
     "execution_count": 102,
     "metadata": {},
     "output_type": "execute_result"
    }
   ],
   "source": [
    "d = 'senthurapandi\\tis\\ta\\tgood\\tboy'\n",
    "d.expandtabs()"
   ]
  },
  {
   "cell_type": "code",
   "execution_count": null,
   "id": "3326ae81",
   "metadata": {},
   "outputs": [],
   "source": []
  }
 ],
 "metadata": {
  "kernelspec": {
   "display_name": "Python 3",
   "language": "python",
   "name": "python3"
  },
  "language_info": {
   "codemirror_mode": {
    "name": "ipython",
    "version": 3
   },
   "file_extension": ".py",
   "mimetype": "text/x-python",
   "name": "python",
   "nbconvert_exporter": "python",
   "pygments_lexer": "ipython3",
   "version": "3.8.8"
  }
 },
 "nbformat": 4,
 "nbformat_minor": 5
}
