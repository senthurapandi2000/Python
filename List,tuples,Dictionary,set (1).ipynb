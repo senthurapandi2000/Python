{
 "cells": [
  {
   "cell_type": "code",
   "execution_count": 1,
   "id": "a4b9cb4a",
   "metadata": {},
   "outputs": [],
   "source": [
    "l = [1,2,3,4,5,'pandi',True,10.25,5+10j]"
   ]
  },
  {
   "cell_type": "code",
   "execution_count": 2,
   "id": "5374a0cd",
   "metadata": {},
   "outputs": [
    {
     "data": {
      "text/plain": [
       "1"
      ]
     },
     "execution_count": 2,
     "metadata": {},
     "output_type": "execute_result"
    }
   ],
   "source": [
    "l[0]"
   ]
  },
  {
   "cell_type": "code",
   "execution_count": 3,
   "id": "bdd8b0db",
   "metadata": {},
   "outputs": [
    {
     "data": {
      "text/plain": [
       "(5+10j)"
      ]
     },
     "execution_count": 3,
     "metadata": {},
     "output_type": "execute_result"
    }
   ],
   "source": [
    "l[-1]"
   ]
  },
  {
   "cell_type": "code",
   "execution_count": 4,
   "id": "168df150",
   "metadata": {},
   "outputs": [
    {
     "data": {
      "text/plain": [
       "[(5+10j), 10.25, True, 'pandi', 5, 4, 3, 2, 1]"
      ]
     },
     "execution_count": 4,
     "metadata": {},
     "output_type": "execute_result"
    }
   ],
   "source": [
    "l[::-1]"
   ]
  },
  {
   "cell_type": "code",
   "execution_count": 5,
   "id": "6b7621d6",
   "metadata": {},
   "outputs": [
    {
     "data": {
      "text/plain": [
       "9"
      ]
     },
     "execution_count": 5,
     "metadata": {},
     "output_type": "execute_result"
    }
   ],
   "source": [
    "len(l)"
   ]
  },
  {
   "cell_type": "code",
   "execution_count": 6,
   "id": "f0a5858e",
   "metadata": {},
   "outputs": [
    {
     "data": {
      "text/plain": [
       "[1, 3, 5]"
      ]
     },
     "execution_count": 6,
     "metadata": {},
     "output_type": "execute_result"
    }
   ],
   "source": [
    "l[0:6:2]"
   ]
  },
  {
   "cell_type": "code",
   "execution_count": 7,
   "id": "9dcbd8b9",
   "metadata": {},
   "outputs": [
    {
     "data": {
      "text/plain": [
       "[]"
      ]
     },
     "execution_count": 7,
     "metadata": {},
     "output_type": "execute_result"
    }
   ],
   "source": [
    "l[0:8:-2]"
   ]
  },
  {
   "cell_type": "code",
   "execution_count": 8,
   "id": "b64d65ac",
   "metadata": {},
   "outputs": [
    {
     "data": {
      "text/plain": [
       "[1, 2, 3]"
      ]
     },
     "execution_count": 8,
     "metadata": {},
     "output_type": "execute_result"
    }
   ],
   "source": [
    "l[:3]"
   ]
  },
  {
   "cell_type": "code",
   "execution_count": 9,
   "id": "262e86e5",
   "metadata": {},
   "outputs": [
    {
     "ename": "TypeError",
     "evalue": "can only concatenate list (not \"str\") to list",
     "output_type": "error",
     "traceback": [
      "\u001b[1;31m---------------------------------------------------------------------------\u001b[0m",
      "\u001b[1;31mTypeError\u001b[0m                                 Traceback (most recent call last)",
      "\u001b[1;32m<ipython-input-9-85e2ed652712>\u001b[0m in \u001b[0;36m<module>\u001b[1;34m\u001b[0m\n\u001b[1;32m----> 1\u001b[1;33m \u001b[0ml\u001b[0m \u001b[1;33m+\u001b[0m \u001b[1;34m'moni'\u001b[0m\u001b[1;33m\u001b[0m\u001b[1;33m\u001b[0m\u001b[0m\n\u001b[0m",
      "\u001b[1;31mTypeError\u001b[0m: can only concatenate list (not \"str\") to list"
     ]
    }
   ],
   "source": [
    "l + 'moni'"
   ]
  },
  {
   "cell_type": "code",
   "execution_count": 10,
   "id": "87f97fef",
   "metadata": {},
   "outputs": [
    {
     "data": {
      "text/plain": [
       "[1, 2, 3, 4, 5, 'pandi', True, 10.25, (5+10j), 'moni']"
      ]
     },
     "execution_count": 10,
     "metadata": {},
     "output_type": "execute_result"
    }
   ],
   "source": [
    "l + ['moni']"
   ]
  },
  {
   "cell_type": "code",
   "execution_count": 11,
   "id": "d0aeabc6",
   "metadata": {
    "scrolled": true
   },
   "outputs": [
    {
     "data": {
      "text/plain": [
       "[1,\n",
       " 2,\n",
       " 3,\n",
       " 4,\n",
       " 5,\n",
       " 'pandi',\n",
       " True,\n",
       " 10.25,\n",
       " (5+10j),\n",
       " 1,\n",
       " 2,\n",
       " 3,\n",
       " 4,\n",
       " 5,\n",
       " 'pandi',\n",
       " True,\n",
       " 10.25,\n",
       " (5+10j)]"
      ]
     },
     "execution_count": 11,
     "metadata": {},
     "output_type": "execute_result"
    }
   ],
   "source": [
    "l * 2"
   ]
  },
  {
   "cell_type": "code",
   "execution_count": 12,
   "id": "4d15b931",
   "metadata": {},
   "outputs": [
    {
     "data": {
      "text/plain": [
       "[1, 2, 3, 4, 5, 'pandi', True, 10.25, (5+10j)]"
      ]
     },
     "execution_count": 12,
     "metadata": {},
     "output_type": "execute_result"
    }
   ],
   "source": [
    "l"
   ]
  },
  {
   "cell_type": "code",
   "execution_count": 13,
   "id": "171371b3",
   "metadata": {},
   "outputs": [
    {
     "data": {
      "text/plain": [
       "False"
      ]
     },
     "execution_count": 13,
     "metadata": {},
     "output_type": "execute_result"
    }
   ],
   "source": [
    "60 in l"
   ]
  },
  {
   "cell_type": "code",
   "execution_count": 14,
   "id": "8fa797a0",
   "metadata": {},
   "outputs": [
    {
     "data": {
      "text/plain": [
       "True"
      ]
     },
     "execution_count": 14,
     "metadata": {},
     "output_type": "execute_result"
    }
   ],
   "source": [
    "2 in l"
   ]
  },
  {
   "cell_type": "code",
   "execution_count": 15,
   "id": "737a311f",
   "metadata": {},
   "outputs": [
    {
     "ename": "TypeError",
     "evalue": "'>' not supported between instances of 'str' and 'int'",
     "output_type": "error",
     "traceback": [
      "\u001b[1;31m---------------------------------------------------------------------------\u001b[0m",
      "\u001b[1;31mTypeError\u001b[0m                                 Traceback (most recent call last)",
      "\u001b[1;32m<ipython-input-15-516369ea1d5e>\u001b[0m in \u001b[0;36m<module>\u001b[1;34m\u001b[0m\n\u001b[1;32m----> 1\u001b[1;33m \u001b[0mmax\u001b[0m\u001b[1;33m(\u001b[0m\u001b[0ml\u001b[0m\u001b[1;33m)\u001b[0m\u001b[1;31m#here its not working because we str ,boolean elements inside in the list\u001b[0m\u001b[1;33m\u001b[0m\u001b[1;33m\u001b[0m\u001b[0m\n\u001b[0m",
      "\u001b[1;31mTypeError\u001b[0m: '>' not supported between instances of 'str' and 'int'"
     ]
    }
   ],
   "source": [
    "max(l)#here its not working because we str ,boolean elements inside in the list "
   ]
  },
  {
   "cell_type": "code",
   "execution_count": 16,
   "id": "c522db6b",
   "metadata": {},
   "outputs": [
    {
     "data": {
      "text/plain": [
       "6.5"
      ]
     },
     "execution_count": 16,
     "metadata": {},
     "output_type": "execute_result"
    }
   ],
   "source": [
    "l = [1,2,3,4,5,6,6.5]\n",
    "max(l)"
   ]
  },
  {
   "cell_type": "code",
   "execution_count": 17,
   "id": "cbd050cb",
   "metadata": {},
   "outputs": [
    {
     "data": {
      "text/plain": [
       "1"
      ]
     },
     "execution_count": 17,
     "metadata": {},
     "output_type": "execute_result"
    }
   ],
   "source": [
    "min(l) #max and min will work when we have int elements or float elements in the list"
   ]
  },
  {
   "cell_type": "code",
   "execution_count": 20,
   "id": "ba9526e4",
   "metadata": {},
   "outputs": [
    {
     "data": {
      "text/plain": [
       "'zee'"
      ]
     },
     "execution_count": 20,
     "metadata": {},
     "output_type": "execute_result"
    }
   ],
   "source": [
    "l2 = ['sudh','pandi','zee']\n",
    "max(l2) #its basically works on alphabetic order"
   ]
  },
  {
   "cell_type": "code",
   "execution_count": 21,
   "id": "caf1c8e4",
   "metadata": {},
   "outputs": [
    {
     "data": {
      "text/plain": [
       "'pandi'"
      ]
     },
     "execution_count": 21,
     "metadata": {},
     "output_type": "execute_result"
    }
   ],
   "source": [
    "min(l2)"
   ]
  },
  {
   "cell_type": "code",
   "execution_count": 40,
   "id": "81d737f1",
   "metadata": {},
   "outputs": [],
   "source": [
    "l = [1,2,3,4,True,\"pandi\",50.25]"
   ]
  },
  {
   "cell_type": "code",
   "execution_count": 41,
   "id": "e2aa608b",
   "metadata": {},
   "outputs": [],
   "source": [
    "l.append(5)"
   ]
  },
  {
   "cell_type": "code",
   "execution_count": 42,
   "id": "37028b4c",
   "metadata": {},
   "outputs": [],
   "source": [
    "l.append(['monesh',\"ragav\"])"
   ]
  },
  {
   "cell_type": "code",
   "execution_count": 43,
   "id": "79e73892",
   "metadata": {},
   "outputs": [
    {
     "name": "stdout",
     "output_type": "stream",
     "text": [
      "[1, 2, 3, 4, True, 'pandi', 50.25, 5, ['monesh', 'ragav']]\n"
     ]
    }
   ],
   "source": [
    "print(l)"
   ]
  },
  {
   "cell_type": "code",
   "execution_count": 44,
   "id": "9387b936",
   "metadata": {},
   "outputs": [
    {
     "data": {
      "text/plain": [
       "1"
      ]
     },
     "execution_count": 44,
     "metadata": {},
     "output_type": "execute_result"
    }
   ],
   "source": [
    "l.pop(0)"
   ]
  },
  {
   "cell_type": "code",
   "execution_count": 45,
   "id": "ef112ed8",
   "metadata": {},
   "outputs": [
    {
     "name": "stdout",
     "output_type": "stream",
     "text": [
      "[2, 3, 4, True, 'pandi', 50.25, 5, ['monesh', 'ragav']]\n"
     ]
    }
   ],
   "source": [
    "print(l)"
   ]
  },
  {
   "cell_type": "code",
   "execution_count": 47,
   "id": "cb7d35f9",
   "metadata": {},
   "outputs": [
    {
     "data": {
      "text/plain": [
       "['monesh', 'ragav']"
      ]
     },
     "execution_count": 47,
     "metadata": {},
     "output_type": "execute_result"
    }
   ],
   "source": [
    "l.pop()#be default its going to remove last index"
   ]
  },
  {
   "cell_type": "code",
   "execution_count": 48,
   "id": "403a5003",
   "metadata": {},
   "outputs": [
    {
     "name": "stdout",
     "output_type": "stream",
     "text": [
      "[2, 3, 4, True, 'pandi', 50.25, 5]\n"
     ]
    }
   ],
   "source": [
    "print(l)"
   ]
  },
  {
   "cell_type": "code",
   "execution_count": 52,
   "id": "10711e6d",
   "metadata": {},
   "outputs": [],
   "source": [
    "l.reverse()#its going to reverse on permanent"
   ]
  },
  {
   "cell_type": "code",
   "execution_count": 53,
   "id": "a4dd3be8",
   "metadata": {},
   "outputs": [
    {
     "name": "stdout",
     "output_type": "stream",
     "text": [
      "[2, 3, 4, True, 'pandi', 50.25, 5]\n"
     ]
    }
   ],
   "source": [
    "print(l)"
   ]
  },
  {
   "cell_type": "code",
   "execution_count": 54,
   "id": "b3e331eb",
   "metadata": {},
   "outputs": [
    {
     "data": {
      "text/plain": [
       "[5, 50.25, 'pandi', True, 4, 3, 2]"
      ]
     },
     "execution_count": 54,
     "metadata": {},
     "output_type": "execute_result"
    }
   ],
   "source": [
    "l[::-1]#its going to reverse on runtime "
   ]
  },
  {
   "cell_type": "code",
   "execution_count": 59,
   "id": "2c83ed3e",
   "metadata": {},
   "outputs": [],
   "source": [
    "l2 = [1,24,5,7,63,1]\n",
    "l2.sort(reverse = True)#sort in descending order"
   ]
  },
  {
   "cell_type": "code",
   "execution_count": 60,
   "id": "ce02a553",
   "metadata": {},
   "outputs": [
    {
     "data": {
      "text/plain": [
       "[63, 24, 7, 5, 1, 1]"
      ]
     },
     "execution_count": 60,
     "metadata": {},
     "output_type": "execute_result"
    }
   ],
   "source": [
    "l2"
   ]
  },
  {
   "cell_type": "code",
   "execution_count": 61,
   "id": "5ca33b10",
   "metadata": {},
   "outputs": [],
   "source": [
    "l2.sort()#sorted in ascending order"
   ]
  },
  {
   "cell_type": "code",
   "execution_count": 62,
   "id": "0b4f4cb9",
   "metadata": {},
   "outputs": [
    {
     "data": {
      "text/plain": [
       "[1, 1, 5, 7, 24, 63]"
      ]
     },
     "execution_count": 62,
     "metadata": {},
     "output_type": "execute_result"
    }
   ],
   "source": [
    "l2"
   ]
  },
  {
   "cell_type": "code",
   "execution_count": 63,
   "id": "3bdae130",
   "metadata": {},
   "outputs": [],
   "source": [
    "l1 = [1,2,3]\n",
    "l2 = [4,5,6]\n",
    "l3 = [7,8,9]"
   ]
  },
  {
   "cell_type": "code",
   "execution_count": 67,
   "id": "eaefadba",
   "metadata": {},
   "outputs": [
    {
     "name": "stdout",
     "output_type": "stream",
     "text": [
      "[1, 2, 3, 4, 5, 6, 7, 8, 9]\n"
     ]
    }
   ],
   "source": [
    "l5 = l1+l2+l3\n",
    "print(l5)"
   ]
  },
  {
   "cell_type": "code",
   "execution_count": 64,
   "id": "9e6f803d",
   "metadata": {},
   "outputs": [],
   "source": [
    "l4 = [l1,l2,l3]"
   ]
  },
  {
   "cell_type": "code",
   "execution_count": 65,
   "id": "256ba30c",
   "metadata": {},
   "outputs": [
    {
     "data": {
      "text/plain": [
       "[[1, 2, 3], [4, 5, 6], [7, 8, 9]]"
      ]
     },
     "execution_count": 65,
     "metadata": {},
     "output_type": "execute_result"
    }
   ],
   "source": [
    "l4"
   ]
  },
  {
   "cell_type": "code",
   "execution_count": 69,
   "id": "13a222ee",
   "metadata": {},
   "outputs": [
    {
     "data": {
      "text/plain": [
       "9"
      ]
     },
     "execution_count": 69,
     "metadata": {},
     "output_type": "execute_result"
    }
   ],
   "source": [
    "#suppose i need 9 then\n",
    "l4[2][2]"
   ]
  },
  {
   "cell_type": "code",
   "execution_count": 73,
   "id": "8a6b672f",
   "metadata": {},
   "outputs": [
    {
     "data": {
      "text/plain": [
       "[2, 3, 4, True, 'pandi', 50.25, 5, 'monesh', 6, 8, 9]"
      ]
     },
     "execution_count": 73,
     "metadata": {},
     "output_type": "execute_result"
    }
   ],
   "source": [
    "l + ['monesh',6,8,9]"
   ]
  },
  {
   "cell_type": "code",
   "execution_count": 74,
   "id": "c4d33a1c",
   "metadata": {},
   "outputs": [
    {
     "data": {
      "text/plain": [
       "[2, 3, 4, True, 'pandi', 50.25, 5, 2, 2, 2]"
      ]
     },
     "execution_count": 74,
     "metadata": {},
     "output_type": "execute_result"
    }
   ],
   "source": [
    "l + [2,2,2]"
   ]
  },
  {
   "cell_type": "code",
   "execution_count": 76,
   "id": "ac5081bd",
   "metadata": {},
   "outputs": [
    {
     "name": "stdout",
     "output_type": "stream",
     "text": [
      "[2, 3, 4, True, 'pandi', 50.25, 5]\n"
     ]
    }
   ],
   "source": [
    "print(l)"
   ]
  },
  {
   "cell_type": "code",
   "execution_count": 78,
   "id": "268476ad",
   "metadata": {},
   "outputs": [],
   "source": [
    "l = [1,2,4,65,4,4,'pandi','pandi',True,[1,2,3,4,5,6]]"
   ]
  },
  {
   "cell_type": "code",
   "execution_count": 79,
   "id": "75f696c9",
   "metadata": {},
   "outputs": [
    {
     "data": {
      "text/plain": [
       "2"
      ]
     },
     "execution_count": 79,
     "metadata": {},
     "output_type": "execute_result"
    }
   ],
   "source": [
    "l.count('pandi')"
   ]
  },
  {
   "cell_type": "code",
   "execution_count": 80,
   "id": "4858cfa1",
   "metadata": {},
   "outputs": [
    {
     "data": {
      "text/plain": [
       "3"
      ]
     },
     "execution_count": 80,
     "metadata": {},
     "output_type": "execute_result"
    }
   ],
   "source": [
    "l.count(4)"
   ]
  },
  {
   "cell_type": "code",
   "execution_count": 81,
   "id": "b42a5ce7",
   "metadata": {},
   "outputs": [
    {
     "data": {
      "text/plain": [
       "[1, 2, 4, 65, 4, 4, 'pandi', 'pandi', True, [1, 2, 3, 4, 5, 6]]"
      ]
     },
     "execution_count": 81,
     "metadata": {},
     "output_type": "execute_result"
    }
   ],
   "source": [
    "l"
   ]
  },
  {
   "cell_type": "code",
   "execution_count": 82,
   "id": "965de6d3",
   "metadata": {},
   "outputs": [],
   "source": [
    "l.append('messi')#append operation basically append as it is."
   ]
  },
  {
   "cell_type": "code",
   "execution_count": 83,
   "id": "db1b51c9",
   "metadata": {},
   "outputs": [
    {
     "data": {
      "text/plain": [
       "[1, 2, 4, 65, 4, 4, 'pandi', 'pandi', True, [1, 2, 3, 4, 5, 6], 'messi']"
      ]
     },
     "execution_count": 83,
     "metadata": {},
     "output_type": "execute_result"
    }
   ],
   "source": [
    "l"
   ]
  },
  {
   "cell_type": "code",
   "execution_count": 84,
   "id": "92b0a157",
   "metadata": {},
   "outputs": [],
   "source": [
    "l.extend('ragav') #extend operation basically unwraps the data"
   ]
  },
  {
   "cell_type": "code",
   "execution_count": 85,
   "id": "55fa7b76",
   "metadata": {},
   "outputs": [
    {
     "data": {
      "text/plain": [
       "[1,\n",
       " 2,\n",
       " 4,\n",
       " 65,\n",
       " 4,\n",
       " 4,\n",
       " 'pandi',\n",
       " 'pandi',\n",
       " True,\n",
       " [1, 2, 3, 4, 5, 6],\n",
       " 'messi',\n",
       " 'r',\n",
       " 'a',\n",
       " 'g',\n",
       " 'a',\n",
       " 'v']"
      ]
     },
     "execution_count": 85,
     "metadata": {},
     "output_type": "execute_result"
    }
   ],
   "source": [
    "l"
   ]
  },
  {
   "cell_type": "code",
   "execution_count": 86,
   "id": "c7d76a2e",
   "metadata": {},
   "outputs": [],
   "source": [
    "l.append([4,56,75,89])"
   ]
  },
  {
   "cell_type": "code",
   "execution_count": 87,
   "id": "32e41a34",
   "metadata": {},
   "outputs": [
    {
     "data": {
      "text/plain": [
       "[1,\n",
       " 2,\n",
       " 4,\n",
       " 65,\n",
       " 4,\n",
       " 4,\n",
       " 'pandi',\n",
       " 'pandi',\n",
       " True,\n",
       " [1, 2, 3, 4, 5, 6],\n",
       " 'messi',\n",
       " 'r',\n",
       " 'a',\n",
       " 'g',\n",
       " 'a',\n",
       " 'v',\n",
       " [4, 56, 75, 89]]"
      ]
     },
     "execution_count": 87,
     "metadata": {},
     "output_type": "execute_result"
    }
   ],
   "source": [
    "l"
   ]
  },
  {
   "cell_type": "code",
   "execution_count": 88,
   "id": "7aeddeeb",
   "metadata": {},
   "outputs": [],
   "source": [
    "l.extend([2,5,3])"
   ]
  },
  {
   "cell_type": "code",
   "execution_count": 89,
   "id": "9a2e870e",
   "metadata": {},
   "outputs": [
    {
     "name": "stdout",
     "output_type": "stream",
     "text": [
      "[1, 2, 4, 65, 4, 4, 'pandi', 'pandi', True, [1, 2, 3, 4, 5, 6], 'messi', 'r', 'a', 'g', 'a', 'v', [4, 56, 75, 89], 2, 5, 3]\n"
     ]
    }
   ],
   "source": [
    "print(l)"
   ]
  },
  {
   "cell_type": "code",
   "execution_count": 92,
   "id": "08148c5c",
   "metadata": {},
   "outputs": [
    {
     "data": {
      "text/plain": [
       "1"
      ]
     },
     "execution_count": 92,
     "metadata": {},
     "output_type": "execute_result"
    }
   ],
   "source": [
    "l.index(2)#return the index of the element"
   ]
  },
  {
   "cell_type": "code",
   "execution_count": 93,
   "id": "60ed3896",
   "metadata": {},
   "outputs": [],
   "source": [
    "l5 = [1,23,4,5]\n",
    "l5.append(6)"
   ]
  },
  {
   "cell_type": "code",
   "execution_count": 94,
   "id": "919ae887",
   "metadata": {},
   "outputs": [
    {
     "data": {
      "text/plain": [
       "[1, 23, 4, 5, 6]"
      ]
     },
     "execution_count": 94,
     "metadata": {},
     "output_type": "execute_result"
    }
   ],
   "source": [
    "l5"
   ]
  },
  {
   "cell_type": "code",
   "execution_count": 95,
   "id": "62719109",
   "metadata": {},
   "outputs": [],
   "source": [
    "l5.insert(0,'pandi')"
   ]
  },
  {
   "cell_type": "code",
   "execution_count": 96,
   "id": "2770854a",
   "metadata": {},
   "outputs": [
    {
     "data": {
      "text/plain": [
       "['pandi', 1, 23, 4, 5, 6]"
      ]
     },
     "execution_count": 96,
     "metadata": {},
     "output_type": "execute_result"
    }
   ],
   "source": [
    "l5"
   ]
  },
  {
   "cell_type": "code",
   "execution_count": 97,
   "id": "6cd4e2ff",
   "metadata": {},
   "outputs": [],
   "source": [
    "l5.insert(0,[1,2,4,5])"
   ]
  },
  {
   "cell_type": "code",
   "execution_count": 98,
   "id": "c74066d9",
   "metadata": {},
   "outputs": [
    {
     "data": {
      "text/plain": [
       "[[1, 2, 4, 5], 'pandi', 1, 23, 4, 5, 6]"
      ]
     },
     "execution_count": 98,
     "metadata": {},
     "output_type": "execute_result"
    }
   ],
   "source": [
    "l5"
   ]
  },
  {
   "cell_type": "code",
   "execution_count": 99,
   "id": "f47e9abb",
   "metadata": {},
   "outputs": [
    {
     "data": {
      "text/plain": [
       "1"
      ]
     },
     "execution_count": 99,
     "metadata": {},
     "output_type": "execute_result"
    }
   ],
   "source": [
    "l5.pop(2)"
   ]
  },
  {
   "cell_type": "code",
   "execution_count": 100,
   "id": "fc852958",
   "metadata": {},
   "outputs": [
    {
     "data": {
      "text/plain": [
       "[[1, 2, 4, 5], 'pandi', 23, 4, 5, 6]"
      ]
     },
     "execution_count": 100,
     "metadata": {},
     "output_type": "execute_result"
    }
   ],
   "source": [
    "l5"
   ]
  },
  {
   "cell_type": "code",
   "execution_count": 102,
   "id": "2dea8104",
   "metadata": {},
   "outputs": [],
   "source": [
    "l5.remove(23)#remove function removes data based on value and pop function removes data based on index"
   ]
  },
  {
   "cell_type": "code",
   "execution_count": 103,
   "id": "6fd29443",
   "metadata": {},
   "outputs": [
    {
     "data": {
      "text/plain": [
       "[[1, 2, 4, 5], 'pandi', 4, 5, 6]"
      ]
     },
     "execution_count": 103,
     "metadata": {},
     "output_type": "execute_result"
    }
   ],
   "source": [
    "l5"
   ]
  },
  {
   "cell_type": "code",
   "execution_count": 104,
   "id": "cc4954c4",
   "metadata": {},
   "outputs": [],
   "source": [
    "l = [1,2,32,4,5]"
   ]
  },
  {
   "cell_type": "code",
   "execution_count": 106,
   "id": "f84e2623",
   "metadata": {},
   "outputs": [],
   "source": [
    "l[0] = 'apndi'#item reassignment operation is possible in list"
   ]
  },
  {
   "cell_type": "code",
   "execution_count": 107,
   "id": "e87bb31d",
   "metadata": {},
   "outputs": [
    {
     "data": {
      "text/plain": [
       "['apndi', 2, 32, 4, 5]"
      ]
     },
     "execution_count": 107,
     "metadata": {},
     "output_type": "execute_result"
    }
   ],
   "source": [
    "l"
   ]
  },
  {
   "cell_type": "code",
   "execution_count": 108,
   "id": "8f1adfa0",
   "metadata": {},
   "outputs": [
    {
     "ename": "TypeError",
     "evalue": "'str' object does not support item assignment",
     "output_type": "error",
     "traceback": [
      "\u001b[1;31m---------------------------------------------------------------------------\u001b[0m",
      "\u001b[1;31mTypeError\u001b[0m                                 Traceback (most recent call last)",
      "\u001b[1;32m<ipython-input-108-2bbf80e08d9a>\u001b[0m in \u001b[0;36m<module>\u001b[1;34m\u001b[0m\n\u001b[0;32m      1\u001b[0m \u001b[0ms\u001b[0m  \u001b[1;33m=\u001b[0m \u001b[1;34m'ineuron'\u001b[0m\u001b[1;33m\u001b[0m\u001b[1;33m\u001b[0m\u001b[0m\n\u001b[1;32m----> 2\u001b[1;33m \u001b[0ms\u001b[0m\u001b[1;33m[\u001b[0m\u001b[1;36m0\u001b[0m\u001b[1;33m]\u001b[0m \u001b[1;33m=\u001b[0m \u001b[1;34m'n'\u001b[0m\u001b[1;33m\u001b[0m\u001b[1;33m\u001b[0m\u001b[0m\n\u001b[0m",
      "\u001b[1;31mTypeError\u001b[0m: 'str' object does not support item assignment"
     ]
    }
   ],
   "source": [
    "s  = 'ineuron'\n",
    "s[0] = 'n'"
   ]
  },
  {
   "cell_type": "markdown",
   "id": "b0dbc2ba",
   "metadata": {},
   "source": [
    "## Tuples"
   ]
  },
  {
   "cell_type": "code",
   "execution_count": 1,
   "id": "20e6eaf8",
   "metadata": {},
   "outputs": [],
   "source": [
    "t = (1,2,3,4,'pandi',30.5,5+4j)"
   ]
  },
  {
   "cell_type": "code",
   "execution_count": 2,
   "id": "efdf9a98",
   "metadata": {},
   "outputs": [
    {
     "data": {
      "text/plain": [
       "1"
      ]
     },
     "execution_count": 2,
     "metadata": {},
     "output_type": "execute_result"
    }
   ],
   "source": [
    "t[0]"
   ]
  },
  {
   "cell_type": "code",
   "execution_count": 3,
   "id": "0f773ec4",
   "metadata": {},
   "outputs": [
    {
     "data": {
      "text/plain": [
       "(1, 2, 3, 4)"
      ]
     },
     "execution_count": 3,
     "metadata": {},
     "output_type": "execute_result"
    }
   ],
   "source": [
    "t[0:4]"
   ]
  },
  {
   "cell_type": "code",
   "execution_count": 5,
   "id": "0df84b64",
   "metadata": {},
   "outputs": [
    {
     "data": {
      "text/plain": [
       "7"
      ]
     },
     "execution_count": 5,
     "metadata": {},
     "output_type": "execute_result"
    }
   ],
   "source": [
    "len(t)"
   ]
  },
  {
   "cell_type": "code",
   "execution_count": 8,
   "id": "4fab8570",
   "metadata": {},
   "outputs": [
    {
     "data": {
      "text/plain": [
       "(1, 3, 'pandi', (5+4j))"
      ]
     },
     "execution_count": 8,
     "metadata": {},
     "output_type": "execute_result"
    }
   ],
   "source": [
    "t[0:7:2]"
   ]
  },
  {
   "cell_type": "code",
   "execution_count": 9,
   "id": "e3c806ee",
   "metadata": {},
   "outputs": [
    {
     "data": {
      "text/plain": [
       "()"
      ]
     },
     "execution_count": 9,
     "metadata": {},
     "output_type": "execute_result"
    }
   ],
   "source": [
    "t[0:100:-2]"
   ]
  },
  {
   "cell_type": "code",
   "execution_count": 10,
   "id": "a52f54af",
   "metadata": {},
   "outputs": [
    {
     "data": {
      "text/plain": [
       "1"
      ]
     },
     "execution_count": 10,
     "metadata": {},
     "output_type": "execute_result"
    }
   ],
   "source": [
    "#Diff b/w list and tuple\n",
    "l = [1,2,3,4]\n",
    "l[0]"
   ]
  },
  {
   "cell_type": "code",
   "execution_count": 11,
   "id": "c9caa873",
   "metadata": {},
   "outputs": [],
   "source": [
    "l[0] = 'pandi'"
   ]
  },
  {
   "cell_type": "code",
   "execution_count": 12,
   "id": "06ac4308",
   "metadata": {},
   "outputs": [
    {
     "data": {
      "text/plain": [
       "['pandi', 2, 3, 4]"
      ]
     },
     "execution_count": 12,
     "metadata": {},
     "output_type": "execute_result"
    }
   ],
   "source": [
    "l"
   ]
  },
  {
   "cell_type": "code",
   "execution_count": 13,
   "id": "3e7294c9",
   "metadata": {},
   "outputs": [
    {
     "data": {
      "text/plain": [
       "1"
      ]
     },
     "execution_count": 13,
     "metadata": {},
     "output_type": "execute_result"
    }
   ],
   "source": [
    "t1 = (1,2,3,4,5)\n",
    "t1[0]"
   ]
  },
  {
   "cell_type": "code",
   "execution_count": 14,
   "id": "049f9aca",
   "metadata": {},
   "outputs": [
    {
     "ename": "TypeError",
     "evalue": "'tuple' object does not support item assignment",
     "output_type": "error",
     "traceback": [
      "\u001b[1;31m---------------------------------------------------------------------------\u001b[0m",
      "\u001b[1;31mTypeError\u001b[0m                                 Traceback (most recent call last)",
      "\u001b[1;32m<ipython-input-14-0444718eb7da>\u001b[0m in \u001b[0;36m<module>\u001b[1;34m\u001b[0m\n\u001b[1;32m----> 1\u001b[1;33m \u001b[0mt1\u001b[0m\u001b[1;33m[\u001b[0m\u001b[1;36m0\u001b[0m\u001b[1;33m]\u001b[0m \u001b[1;33m=\u001b[0m \u001b[1;34m'pandi'\u001b[0m\u001b[1;33m\u001b[0m\u001b[1;33m\u001b[0m\u001b[0m\n\u001b[0m",
      "\u001b[1;31mTypeError\u001b[0m: 'tuple' object does not support item assignment"
     ]
    }
   ],
   "source": [
    "t1[0] = 'pandi'"
   ]
  },
  {
   "cell_type": "code",
   "execution_count": 18,
   "id": "c1ed2a42",
   "metadata": {},
   "outputs": [
    {
     "data": {
      "text/plain": [
       "(1, 2, 3, 4, 'pandi', 30.5, (5+4j), 1, 2, 3, 4, 5)"
      ]
     },
     "execution_count": 18,
     "metadata": {},
     "output_type": "execute_result"
    }
   ],
   "source": [
    "t+t1"
   ]
  },
  {
   "cell_type": "code",
   "execution_count": 19,
   "id": "96cf6b43",
   "metadata": {},
   "outputs": [
    {
     "data": {
      "text/plain": [
       "(1, 2, 3, 4, 'pandi', 30.5, (5+4j))"
      ]
     },
     "execution_count": 19,
     "metadata": {},
     "output_type": "execute_result"
    }
   ],
   "source": [
    "t"
   ]
  },
  {
   "cell_type": "code",
   "execution_count": 20,
   "id": "58451da0",
   "metadata": {},
   "outputs": [
    {
     "data": {
      "text/plain": [
       "1"
      ]
     },
     "execution_count": 20,
     "metadata": {},
     "output_type": "execute_result"
    }
   ],
   "source": [
    "t.count(4)"
   ]
  },
  {
   "cell_type": "code",
   "execution_count": 21,
   "id": "ea99436f",
   "metadata": {},
   "outputs": [
    {
     "data": {
      "text/plain": [
       "3"
      ]
     },
     "execution_count": 21,
     "metadata": {},
     "output_type": "execute_result"
    }
   ],
   "source": [
    "t.index(4)"
   ]
  },
  {
   "cell_type": "markdown",
   "id": "2b6ed713",
   "metadata": {},
   "source": [
    "# dictionary"
   ]
  },
  {
   "cell_type": "code",
   "execution_count": 22,
   "id": "11062eba",
   "metadata": {},
   "outputs": [],
   "source": [
    "d = {}"
   ]
  },
  {
   "cell_type": "code",
   "execution_count": 23,
   "id": "1e7f3ad1",
   "metadata": {},
   "outputs": [
    {
     "data": {
      "text/plain": [
       "dict"
      ]
     },
     "execution_count": 23,
     "metadata": {},
     "output_type": "execute_result"
    }
   ],
   "source": [
    "type(d)"
   ]
  },
  {
   "cell_type": "code",
   "execution_count": 24,
   "id": "bea14403",
   "metadata": {},
   "outputs": [
    {
     "data": {
      "text/plain": [
       "set"
      ]
     },
     "execution_count": 24,
     "metadata": {},
     "output_type": "execute_result"
    }
   ],
   "source": [
    "d1 = {1}\n",
    "type(d1)"
   ]
  },
  {
   "cell_type": "code",
   "execution_count": 25,
   "id": "ae6541af",
   "metadata": {},
   "outputs": [],
   "source": [
    "d2 = {'k1' : 'pandi',234 : 'monesh','k2'  : 30.6,'k3' : 4562}"
   ]
  },
  {
   "cell_type": "code",
   "execution_count": 30,
   "id": "20ae7a7c",
   "metadata": {},
   "outputs": [
    {
     "data": {
      "text/plain": [
       "30.6"
      ]
     },
     "execution_count": 30,
     "metadata": {},
     "output_type": "execute_result"
    }
   ],
   "source": [
    "d2['k2']"
   ]
  },
  {
   "cell_type": "code",
   "execution_count": 39,
   "id": "c53bc507",
   "metadata": {},
   "outputs": [],
   "source": [
    "d3 =  {\"name\"  : \"senthura pandi\",\"skills\"  : ['Python','Ml','dl','data analytics'],\"Dob\" : 2000}"
   ]
  },
  {
   "cell_type": "code",
   "execution_count": 40,
   "id": "d1c82818",
   "metadata": {},
   "outputs": [
    {
     "data": {
      "text/plain": [
       "['Python', 'Ml', 'dl', 'data analytics']"
      ]
     },
     "execution_count": 40,
     "metadata": {},
     "output_type": "execute_result"
    }
   ],
   "source": [
    "d3['skills']"
   ]
  },
  {
   "cell_type": "code",
   "execution_count": 38,
   "id": "dc65c9aa",
   "metadata": {},
   "outputs": [
    {
     "data": {
      "text/plain": [
       "True"
      ]
     },
     "execution_count": 38,
     "metadata": {},
     "output_type": "execute_result"
    }
   ],
   "source": [
    "\"Python\" in d3['skills']"
   ]
  },
  {
   "cell_type": "code",
   "execution_count": 41,
   "id": "0007f562",
   "metadata": {},
   "outputs": [],
   "source": [
    "d4 = {\"name\" : 'pandi' , \"dob\":1456 , \"name\":'sudh'}"
   ]
  },
  {
   "cell_type": "code",
   "execution_count": 43,
   "id": "b848a03a",
   "metadata": {},
   "outputs": [
    {
     "data": {
      "text/plain": [
       "{'name': 'sudh', 'dob': 1456}"
      ]
     },
     "execution_count": 43,
     "metadata": {},
     "output_type": "execute_result"
    }
   ],
   "source": [
    "d4 #here keys should be unique ,if it is repeatative then it takes latest value"
   ]
  },
  {
   "cell_type": "code",
   "execution_count": 45,
   "id": "f85f9857",
   "metadata": {},
   "outputs": [],
   "source": [
    "#adding new key and values inside dict\n",
    "d4['phoneno'] = 917454"
   ]
  },
  {
   "cell_type": "code",
   "execution_count": 46,
   "id": "a40ce41d",
   "metadata": {},
   "outputs": [
    {
     "data": {
      "text/plain": [
       "{'name': 'sudh', 'dob': 1456, 'phoneno': 917454}"
      ]
     },
     "execution_count": 46,
     "metadata": {},
     "output_type": "execute_result"
    }
   ],
   "source": [
    "d4"
   ]
  },
  {
   "cell_type": "code",
   "execution_count": 47,
   "id": "901378b0",
   "metadata": {},
   "outputs": [],
   "source": [
    "d4['k2'] = d2"
   ]
  },
  {
   "cell_type": "code",
   "execution_count": 48,
   "id": "82f86fb5",
   "metadata": {},
   "outputs": [
    {
     "data": {
      "text/plain": [
       "{'name': 'sudh',\n",
       " 'dob': 1456,\n",
       " 'phoneno': 917454,\n",
       " 'k2': {'k1': 'pandi', 234: 'monesh', 'k2': 30.6, 'k3': 4562}}"
      ]
     },
     "execution_count": 48,
     "metadata": {},
     "output_type": "execute_result"
    }
   ],
   "source": [
    "d4"
   ]
  },
  {
   "cell_type": "code",
   "execution_count": 53,
   "id": "3ebd8381",
   "metadata": {},
   "outputs": [
    {
     "data": {
      "text/plain": [
       "4562"
      ]
     },
     "execution_count": 53,
     "metadata": {},
     "output_type": "execute_result"
    }
   ],
   "source": [
    "d4['k2']['k3']"
   ]
  },
  {
   "cell_type": "code",
   "execution_count": 54,
   "id": "bc0edaa2",
   "metadata": {},
   "outputs": [
    {
     "ename": "SyntaxError",
     "evalue": "invalid syntax (<ipython-input-54-f8260245d326>, line 1)",
     "output_type": "error",
     "traceback": [
      "\u001b[1;36m  File \u001b[1;32m\"<ipython-input-54-f8260245d326>\"\u001b[1;36m, line \u001b[1;32m1\u001b[0m\n\u001b[1;33m    d5 = {@:'pandi'}\u001b[0m\n\u001b[1;37m          ^\u001b[0m\n\u001b[1;31mSyntaxError\u001b[0m\u001b[1;31m:\u001b[0m invalid syntax\n"
     ]
    }
   ],
   "source": [
    "d5 = {@:'pandi'}"
   ]
  },
  {
   "cell_type": "code",
   "execution_count": 56,
   "id": "5dd2f2c3",
   "metadata": {},
   "outputs": [
    {
     "name": "stdout",
     "output_type": "stream",
     "text": [
      "{4562: 'senthura'}\n"
     ]
    }
   ],
   "source": [
    "d5 = {_:'senthura'}\n",
    "print(d5)"
   ]
  },
  {
   "cell_type": "code",
   "execution_count": 58,
   "id": "0f862152",
   "metadata": {},
   "outputs": [
    {
     "name": "stdout",
     "output_type": "stream",
     "text": [
      "{(1, 2, 3, 4): 'pandi'}\n"
     ]
    }
   ],
   "source": [
    "d6 = {(1,2,3,4):'pandi'}\n",
    "print(d6) #here tuples,int,str are allowed as keys"
   ]
  },
  {
   "cell_type": "code",
   "execution_count": 59,
   "id": "f712bdbc",
   "metadata": {},
   "outputs": [
    {
     "ename": "TypeError",
     "evalue": "unhashable type: 'list'",
     "output_type": "error",
     "traceback": [
      "\u001b[1;31m---------------------------------------------------------------------------\u001b[0m",
      "\u001b[1;31mTypeError\u001b[0m                                 Traceback (most recent call last)",
      "\u001b[1;32m<ipython-input-59-e0d393ff9195>\u001b[0m in \u001b[0;36m<module>\u001b[1;34m\u001b[0m\n\u001b[1;32m----> 1\u001b[1;33m \u001b[0md6\u001b[0m \u001b[1;33m=\u001b[0m \u001b[1;33m{\u001b[0m\u001b[1;33m[\u001b[0m\u001b[1;36m1\u001b[0m\u001b[1;33m,\u001b[0m\u001b[1;36m2\u001b[0m\u001b[1;33m,\u001b[0m\u001b[1;36m3\u001b[0m\u001b[1;33m,\u001b[0m\u001b[1;36m4\u001b[0m\u001b[1;33m]\u001b[0m\u001b[1;33m:\u001b[0m\u001b[1;34m'senthura'\u001b[0m\u001b[1;33m}\u001b[0m\u001b[1;33m\u001b[0m\u001b[1;33m\u001b[0m\u001b[0m\n\u001b[0m",
      "\u001b[1;31mTypeError\u001b[0m: unhashable type: 'list'"
     ]
    }
   ],
   "source": [
    "d6 = {[1,2,3,4]:'senthura'}"
   ]
  },
  {
   "cell_type": "code",
   "execution_count": 60,
   "id": "b031560e",
   "metadata": {},
   "outputs": [
    {
     "ename": "TypeError",
     "evalue": "unhashable type: 'dict'",
     "output_type": "error",
     "traceback": [
      "\u001b[1;31m---------------------------------------------------------------------------\u001b[0m",
      "\u001b[1;31mTypeError\u001b[0m                                 Traceback (most recent call last)",
      "\u001b[1;32m<ipython-input-60-dc2893a1db45>\u001b[0m in \u001b[0;36m<module>\u001b[1;34m\u001b[0m\n\u001b[1;32m----> 1\u001b[1;33m \u001b[0md6\u001b[0m \u001b[1;33m=\u001b[0m \u001b[1;33m{\u001b[0m\u001b[1;33m{\u001b[0m\u001b[1;36m5\u001b[0m\u001b[1;33m:\u001b[0m\u001b[1;36m6\u001b[0m\u001b[1;33m}\u001b[0m\u001b[1;33m:\u001b[0m\u001b[1;34m'monesh'\u001b[0m\u001b[1;33m}\u001b[0m\u001b[1;33m\u001b[0m\u001b[1;33m\u001b[0m\u001b[0m\n\u001b[0m",
      "\u001b[1;31mTypeError\u001b[0m: unhashable type: 'dict'"
     ]
    }
   ],
   "source": [
    "d6 = {{5:6}:'monesh'}"
   ]
  },
  {
   "cell_type": "code",
   "execution_count": 62,
   "id": "d1451c36",
   "metadata": {},
   "outputs": [],
   "source": [
    "d4['name'] = 'ragav'"
   ]
  },
  {
   "cell_type": "code",
   "execution_count": 63,
   "id": "24247782",
   "metadata": {},
   "outputs": [
    {
     "data": {
      "text/plain": [
       "{'name': 'ragav',\n",
       " 'dob': 1456,\n",
       " 'phoneno': 917454,\n",
       " 'k2': {'k1': 'pandi', 234: 'monesh', 'k2': 30.6, 'k3': 4562}}"
      ]
     },
     "execution_count": 63,
     "metadata": {},
     "output_type": "execute_result"
    }
   ],
   "source": [
    "d4"
   ]
  },
  {
   "cell_type": "code",
   "execution_count": 64,
   "id": "1947dfa9",
   "metadata": {},
   "outputs": [
    {
     "data": {
      "text/plain": [
       "dict_keys(['name', 'dob', 'phoneno', 'k2'])"
      ]
     },
     "execution_count": 64,
     "metadata": {},
     "output_type": "execute_result"
    }
   ],
   "source": [
    "d4.keys()"
   ]
  },
  {
   "cell_type": "code",
   "execution_count": 65,
   "id": "2226a9d2",
   "metadata": {},
   "outputs": [
    {
     "data": {
      "text/plain": [
       "dict_values(['ragav', 1456, 917454, {'k1': 'pandi', 234: 'monesh', 'k2': 30.6, 'k3': 4562}])"
      ]
     },
     "execution_count": 65,
     "metadata": {},
     "output_type": "execute_result"
    }
   ],
   "source": [
    "d4.values()"
   ]
  },
  {
   "cell_type": "code",
   "execution_count": 66,
   "id": "546e1c40",
   "metadata": {},
   "outputs": [
    {
     "data": {
      "text/plain": [
       "dict_items([('name', 'ragav'), ('dob', 1456), ('phoneno', 917454), ('k2', {'k1': 'pandi', 234: 'monesh', 'k2': 30.6, 'k3': 4562})])"
      ]
     },
     "execution_count": 66,
     "metadata": {},
     "output_type": "execute_result"
    }
   ],
   "source": [
    "d4.items()"
   ]
  },
  {
   "cell_type": "markdown",
   "id": "c12a8cd1",
   "metadata": {},
   "source": [
    "# set"
   ]
  },
  {
   "cell_type": "code",
   "execution_count": 67,
   "id": "03ec4269",
   "metadata": {},
   "outputs": [
    {
     "data": {
      "text/plain": [
       "{1, 2, 3, 4, 24, 65, 74, 85}"
      ]
     },
     "execution_count": 67,
     "metadata": {},
     "output_type": "execute_result"
    }
   ],
   "source": [
    "s = {1,1,1,1,2,4,65,74,3,24,3,85}\n",
    "s #removes duplication"
   ]
  },
  {
   "cell_type": "code",
   "execution_count": 68,
   "id": "f981ac86",
   "metadata": {},
   "outputs": [
    {
     "ename": "TypeError",
     "evalue": "'set' object is not subscriptable",
     "output_type": "error",
     "traceback": [
      "\u001b[1;31m---------------------------------------------------------------------------\u001b[0m",
      "\u001b[1;31mTypeError\u001b[0m                                 Traceback (most recent call last)",
      "\u001b[1;32m<ipython-input-68-c9c96910e542>\u001b[0m in \u001b[0;36m<module>\u001b[1;34m\u001b[0m\n\u001b[1;32m----> 1\u001b[1;33m \u001b[0ms\u001b[0m\u001b[1;33m[\u001b[0m\u001b[1;36m0\u001b[0m\u001b[1;33m]\u001b[0m\u001b[1;33m\u001b[0m\u001b[1;33m\u001b[0m\u001b[0m\n\u001b[0m",
      "\u001b[1;31mTypeError\u001b[0m: 'set' object is not subscriptable"
     ]
    }
   ],
   "source": [
    "s[0] #no index"
   ]
  },
  {
   "cell_type": "code",
   "execution_count": 69,
   "id": "8fcad208",
   "metadata": {},
   "outputs": [
    {
     "data": {
      "text/plain": [
       "{1, 12, 2, 3, 4, 'apndi', 'b'}"
      ]
     },
     "execution_count": 69,
     "metadata": {},
     "output_type": "execute_result"
    }
   ],
   "source": [
    "s1 = {'apndi',12,3,4,1,'b',2,2}\n",
    "s1\n"
   ]
  },
  {
   "cell_type": "code",
   "execution_count": 70,
   "id": "99e1d179",
   "metadata": {},
   "outputs": [],
   "source": [
    "l = [1,2,2,3,4,5,5,77,77] #remove the duplicate in the list\n",
    "l = list(set(l))"
   ]
  },
  {
   "cell_type": "code",
   "execution_count": 71,
   "id": "f10b4244",
   "metadata": {},
   "outputs": [
    {
     "data": {
      "text/plain": [
       "[1, 2, 3, 4, 5, 77]"
      ]
     },
     "execution_count": 71,
     "metadata": {},
     "output_type": "execute_result"
    }
   ],
   "source": [
    "l"
   ]
  },
  {
   "cell_type": "code",
   "execution_count": 74,
   "id": "720e0714",
   "metadata": {},
   "outputs": [],
   "source": [
    "s1.add(50)"
   ]
  },
  {
   "cell_type": "code",
   "execution_count": 75,
   "id": "34eac065",
   "metadata": {},
   "outputs": [
    {
     "data": {
      "text/plain": [
       "{1, 12, 2, 3, 4, 50, 'apndi', 'b'}"
      ]
     },
     "execution_count": 75,
     "metadata": {},
     "output_type": "execute_result"
    }
   ],
   "source": [
    "s1"
   ]
  },
  {
   "cell_type": "code",
   "execution_count": 78,
   "id": "3e2c1006",
   "metadata": {},
   "outputs": [],
   "source": [
    "s1.add((1,2,3,4,5))"
   ]
  },
  {
   "cell_type": "code",
   "execution_count": 79,
   "id": "16459474",
   "metadata": {},
   "outputs": [
    {
     "data": {
      "text/plain": [
       "{(1, 2, 3, 4, 5), 1, 12, 2, 3, 4, 50, 'apndi', 'b'}"
      ]
     },
     "execution_count": 79,
     "metadata": {},
     "output_type": "execute_result"
    }
   ],
   "source": [
    "s1"
   ]
  },
  {
   "cell_type": "code",
   "execution_count": 80,
   "id": "76526010",
   "metadata": {},
   "outputs": [
    {
     "ename": "TypeError",
     "evalue": "unhashable type: 'list'",
     "output_type": "error",
     "traceback": [
      "\u001b[1;31m---------------------------------------------------------------------------\u001b[0m",
      "\u001b[1;31mTypeError\u001b[0m                                 Traceback (most recent call last)",
      "\u001b[1;32m<ipython-input-80-b8b2bea2024b>\u001b[0m in \u001b[0;36m<module>\u001b[1;34m\u001b[0m\n\u001b[1;32m----> 1\u001b[1;33m \u001b[0ms1\u001b[0m\u001b[1;33m.\u001b[0m\u001b[0madd\u001b[0m\u001b[1;33m(\u001b[0m\u001b[1;33m[\u001b[0m\u001b[1;36m52\u001b[0m\u001b[1;33m,\u001b[0m\u001b[1;36m55\u001b[0m\u001b[1;33m,\u001b[0m\u001b[1;36m42\u001b[0m\u001b[1;33m,\u001b[0m\u001b[1;36m545\u001b[0m\u001b[1;33m]\u001b[0m\u001b[1;33m)\u001b[0m\u001b[1;33m\u001b[0m\u001b[1;33m\u001b[0m\u001b[0m\n\u001b[0m",
      "\u001b[1;31mTypeError\u001b[0m: unhashable type: 'list'"
     ]
    }
   ],
   "source": [
    "s1.add([52,55,42,545])"
   ]
  },
  {
   "cell_type": "code",
   "execution_count": 81,
   "id": "7c70518c",
   "metadata": {},
   "outputs": [
    {
     "ename": "TypeError",
     "evalue": "unhashable type: 'dict'",
     "output_type": "error",
     "traceback": [
      "\u001b[1;31m---------------------------------------------------------------------------\u001b[0m",
      "\u001b[1;31mTypeError\u001b[0m                                 Traceback (most recent call last)",
      "\u001b[1;32m<ipython-input-81-a77733790c13>\u001b[0m in \u001b[0;36m<module>\u001b[1;34m\u001b[0m\n\u001b[1;32m----> 1\u001b[1;33m \u001b[0ms1\u001b[0m\u001b[1;33m.\u001b[0m\u001b[0madd\u001b[0m\u001b[1;33m(\u001b[0m\u001b[1;33m{\u001b[0m\u001b[1;34m'k1'\u001b[0m\u001b[1;33m:\u001b[0m\u001b[1;34m'pandi'\u001b[0m\u001b[1;33m,\u001b[0m\u001b[1;34m'contact no'\u001b[0m \u001b[1;33m:\u001b[0m \u001b[1;36m25\u001b[0m\u001b[1;33m}\u001b[0m\u001b[1;33m)\u001b[0m\u001b[1;33m\u001b[0m\u001b[1;33m\u001b[0m\u001b[0m\n\u001b[0m",
      "\u001b[1;31mTypeError\u001b[0m: unhashable type: 'dict'"
     ]
    }
   ],
   "source": [
    "s1.add({'k1':'pandi','contact no' : 25})"
   ]
  },
  {
   "cell_type": "code",
   "execution_count": 83,
   "id": "775a7f3c",
   "metadata": {},
   "outputs": [],
   "source": [
    "s1.remove(2)"
   ]
  },
  {
   "cell_type": "code",
   "execution_count": 84,
   "id": "59604290",
   "metadata": {},
   "outputs": [
    {
     "data": {
      "text/plain": [
       "{(1, 2, 3, 4, 5), 1, 12, 3, 4, 50, 'apndi', 'b'}"
      ]
     },
     "execution_count": 84,
     "metadata": {},
     "output_type": "execute_result"
    }
   ],
   "source": [
    "s1"
   ]
  },
  {
   "cell_type": "code",
   "execution_count": 85,
   "id": "f937c422",
   "metadata": {},
   "outputs": [],
   "source": [
    "s1.discard(1)"
   ]
  },
  {
   "cell_type": "code",
   "execution_count": 86,
   "id": "b5973dfd",
   "metadata": {},
   "outputs": [
    {
     "data": {
      "text/plain": [
       "{(1, 2, 3, 4, 5), 12, 3, 4, 50, 'apndi', 'b'}"
      ]
     },
     "execution_count": 86,
     "metadata": {},
     "output_type": "execute_result"
    }
   ],
   "source": [
    "s1"
   ]
  },
  {
   "cell_type": "code",
   "execution_count": 87,
   "id": "751d4330",
   "metadata": {},
   "outputs": [
    {
     "ename": "KeyError",
     "evalue": "1",
     "output_type": "error",
     "traceback": [
      "\u001b[1;31m---------------------------------------------------------------------------\u001b[0m",
      "\u001b[1;31mKeyError\u001b[0m                                  Traceback (most recent call last)",
      "\u001b[1;32m<ipython-input-87-1b8856482903>\u001b[0m in \u001b[0;36m<module>\u001b[1;34m\u001b[0m\n\u001b[1;32m----> 1\u001b[1;33m \u001b[0ms1\u001b[0m\u001b[1;33m.\u001b[0m\u001b[0mremove\u001b[0m\u001b[1;33m(\u001b[0m\u001b[1;36m1\u001b[0m\u001b[1;33m)\u001b[0m\u001b[1;33m\u001b[0m\u001b[1;33m\u001b[0m\u001b[0m\n\u001b[0m",
      "\u001b[1;31mKeyError\u001b[0m: 1"
     ]
    }
   ],
   "source": [
    "s1.remove(1)"
   ]
  },
  {
   "cell_type": "code",
   "execution_count": 88,
   "id": "cbc0c8e4",
   "metadata": {},
   "outputs": [],
   "source": [
    "s1.discard(1)"
   ]
  },
  {
   "cell_type": "code",
   "execution_count": 89,
   "id": "068e5697",
   "metadata": {},
   "outputs": [
    {
     "data": {
      "text/plain": [
       "{(1, 2, 3, 4, 5), 12, 3, 4, 50, 'apndi', 'b'}"
      ]
     },
     "execution_count": 89,
     "metadata": {},
     "output_type": "execute_result"
    }
   ],
   "source": [
    "s1"
   ]
  },
  {
   "cell_type": "code",
   "execution_count": 90,
   "id": "452714d7",
   "metadata": {},
   "outputs": [
    {
     "data": {
      "text/plain": [
       "3"
      ]
     },
     "execution_count": 90,
     "metadata": {},
     "output_type": "execute_result"
    }
   ],
   "source": [
    "s1.pop()"
   ]
  },
  {
   "cell_type": "code",
   "execution_count": null,
   "id": "684be0b1",
   "metadata": {},
   "outputs": [],
   "source": []
  }
 ],
 "metadata": {
  "kernelspec": {
   "display_name": "Python 3",
   "language": "python",
   "name": "python3"
  },
  "language_info": {
   "codemirror_mode": {
    "name": "ipython",
    "version": 3
   },
   "file_extension": ".py",
   "mimetype": "text/x-python",
   "name": "python",
   "nbconvert_exporter": "python",
   "pygments_lexer": "ipython3",
   "version": "3.8.8"
  }
 },
 "nbformat": 4,
 "nbformat_minor": 5
}
